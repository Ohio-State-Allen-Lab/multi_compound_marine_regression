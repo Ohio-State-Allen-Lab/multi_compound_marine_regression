{
 "cells": [
  {
   "cell_type": "markdown",
   "metadata": {},
   "source": [
    "# Multi-Part Ocean Regression - Dropout Test"
   ]
  },
  {
   "cell_type": "code",
   "execution_count": 1,
   "metadata": {},
   "outputs": [],
   "source": [
    "#Data Processing and Management\n",
    "import os\n",
    "import glob\n",
    "import csv\n",
    "import pandas as pd\n",
    "import numpy as np\n",
    "import math\n",
    "\n",
    "#ML Model\n",
    "from sklearn.model_selection import train_test_split\n",
    "from sklearn.svm import SVR\n",
    "from sklearn.ensemble import GradientBoostingRegressor\n",
    "from sklearn.ensemble import HistGradientBoostingRegressor\n",
    "\n",
    "#Model and Data Analysis\n",
    "from sklearn.metrics import mean_squared_error, r2_score\n",
    "from sklearn import metrics\n",
    "from sklearn.metrics import accuracy_score\n",
    "from sklearn.feature_selection import SelectKBest\n",
    "from sklearn.feature_selection import f_regression\n",
    "\n",
    "#Imaging and Plotting\n",
    "import matplotlib.pyplot as plt"
   ]
  },
  {
   "cell_type": "markdown",
   "metadata": {},
   "source": [
    "### Import Data"
   ]
  },
  {
   "cell_type": "code",
   "execution_count": 2,
   "metadata": {},
   "outputs": [],
   "source": [
    "path = PATH\n",
    "\n",
    "\n",
    "#Pull in Wavenumbers for Plotting\n",
    "wavenumbers = pd.read_csv(path + '//'+'Wavenumbers.csv')\n",
    "#Pull in water references\n",
    "water =pd.read_csv(path + '//'+'Water.csv')\n",
    "\n",
    "\n",
    "#Field Samples with Spikes\n",
    "F_Dataset = pd.read_csv(path + '//'+'F_Dataset.csv')\n",
    "F_Concs = pd.read_csv(path + '//'+'Ocean_ML_Concs_F_Samples.csv')\n",
    "F_Concs.drop(columns=F_Concs.columns[0], axis=1, inplace=True)\n",
    "#Field Samples Without Spikes\n",
    "Field_Samples = pd.read_csv(path + '//'+'Field_Samples.csv')\n",
    "Field_Concs = pd.read_csv(path + '//'+'Ocean_ML_Concs_FIELD.csv')\n",
    "Field_Concs.drop(columns=Field_Concs.columns[0], axis=1, inplace=True)\n",
    "Field_Concs = Field_Concs.T\n",
    "Field_Concs.reset_index(drop=True, inplace=True)"
   ]
  },
  {
   "cell_type": "markdown",
   "metadata": {},
   "source": [
    "# Preprocessing"
   ]
  },
  {
   "cell_type": "code",
   "execution_count": 3,
   "metadata": {},
   "outputs": [],
   "source": [
    "#Field Samples w/ Spikes\n",
    "avg = F_Dataset.iloc[500:800,:].mean()\n",
    "F_Dataset.iloc[0:1000,:] = F_Dataset.iloc[0:1000,:] - avg\n",
    "F_Dataset = F_Dataset/F_Dataset.iloc[1100,:]\n",
    "\n",
    "#Field Samples w/o Spikes\n",
    "avg = Field_Samples.iloc[500:800,:].mean()\n",
    "Field_Samples.iloc[0:1000,:] = Field_Samples.iloc[0:1000,:] - avg\n",
    "Field_Samples = Field_Samples/Field_Samples.iloc[1100,:]"
   ]
  },
  {
   "cell_type": "code",
   "execution_count": 4,
   "metadata": {},
   "outputs": [],
   "source": [
    "drop_lists=[['F_A1', 'F_A2', 'F_A3', 'F_A4', 'F_A5', 'F_A7', 'F_A8', 'F_A9', 'F_A10', 'F_A11'],['F_B1', 'F_B2', 'F_B3', 'F_B4', 'F_B5', 'F_B7', 'F_B8', 'F_B9', 'F_B10', 'F_B11'],['F_C1', 'F_C2', 'F_C3', 'F_C4', 'F_C5', 'F_C7', 'F_C8', 'F_C9', 'F_C10', 'F_C11'],['F_D1', 'F_D2', 'F_D3', 'F_D4', 'F_D5', 'F_D7', 'F_D8', 'F_D9', 'F_D10', 'F_D11'],['F_E1', 'F_E2', 'F_E3', 'F_E4', 'F_E5', 'F_E7', 'F_E8', 'F_E9', 'F_E10'],['F_F1', 'F_F2', 'F_F3', 'F_F4', 'F_F5', 'F_F7', 'F_F8', 'F_F9', 'F_F10'], ['F_G1', 'F_G2', 'F_G3', 'F_G4', 'F_G5', 'F_G7', 'F_G8', 'F_G9', 'F_G10', 'F_G11'], ['F_H1', 'F_H2', 'F_H3', 'F_H4', 'F_H5', 'F_H7', 'F_H8', 'F_H9', 'F_H10', 'F_H11'], ['F_I1', 'F_I2', 'F_I3', 'F_I4', 'F_I5', 'F_I7', 'F_I8', 'F_I9', 'F_I10', 'F_I11'], ['F_J1', 'F_J2', 'F_J3', 'F_J4', 'F_J5', 'F_J7', 'F_J8', 'F_J9', 'F_J10', 'F_J11']]\n",
    "field_names = ['F_A6','F_B6','F_C6','F_D6','F_E6','F_F6','F_G6','F_H6','F_I6','F_J6']"
   ]
  },
  {
   "cell_type": "markdown",
   "metadata": {},
   "source": [
    "### Glycine"
   ]
  },
  {
   "cell_type": "code",
   "execution_count": 5,
   "metadata": {},
   "outputs": [],
   "source": [
    "# train test data split\n",
    "X_train, X_test, y_train, y_test = train_test_split(F_Dataset.T, F_Concs.T, test_size=0.3, random_state=42)\n",
    "# initialize regressor & fit\n",
    "regressor = SVR(kernel='rbf')\n",
    "regressor.fit(X_train,y_train[0])\n",
    "# Estimate Field Sample\n",
    "y_un_pred_GLY_no_Drop = regressor.predict(Field_Samples.T) # predict on new data"
   ]
  },
  {
   "cell_type": "code",
   "execution_count": 6,
   "metadata": {},
   "outputs": [],
   "source": [
    "glycine_results = pd.DataFrame({'Glycine True':Field_Concs[0], 'Glycine No Drop': y_un_pred_GLY_no_Drop})"
   ]
  },
  {
   "cell_type": "code",
   "execution_count": 7,
   "metadata": {},
   "outputs": [],
   "source": [
    "glycine_preds = []\n",
    "counter = 0"
   ]
  },
  {
   "cell_type": "code",
   "execution_count": 8,
   "metadata": {},
   "outputs": [],
   "source": [
    "for i in drop_lists:\n",
    "    #Drop Data\n",
    "    F_Dataset_temp = F_Dataset.drop(i, axis = 1)\n",
    "    F_Conc_temp = F_Concs.drop(i, axis = 1)\n",
    "    # train test data split\n",
    "    X_train, X_test, y_train, y_test = train_test_split(F_Dataset_temp.T, F_Conc_temp.T, test_size=0.3, random_state=42)\n",
    "    # initialize regressor & fit\n",
    "    regressor = SVR(kernel='rbf')\n",
    "    regressor.fit(X_train,y_train[0])\n",
    "    # Estimate Field Sample\n",
    "    y_un_pred_GLY = regressor.predict(Field_Samples.T) # predict on new data\n",
    "    glycine_preds.append(y_un_pred_GLY[counter])\n",
    "    counter = counter +1"
   ]
  },
  {
   "cell_type": "code",
   "execution_count": 9,
   "metadata": {},
   "outputs": [],
   "source": [
    "glycine_results['Glycine Predicted'] = glycine_preds"
   ]
  },
  {
   "cell_type": "code",
   "execution_count": 10,
   "metadata": {},
   "outputs": [],
   "source": [
    "glycine_results['Glycine Diff'] = glycine_results['Glycine Predicted'] - glycine_results['Glycine True']"
   ]
  },
  {
   "cell_type": "code",
   "execution_count": 11,
   "metadata": {},
   "outputs": [
    {
     "name": "stdout",
     "output_type": "stream",
     "text": [
      "Glycine:  7\n"
     ]
    }
   ],
   "source": [
    "#Glycine (GLY)\n",
    "GLY_20 = (max(glycine_results['Glycine True'])/10)*2\n",
    "#print(GLY_10)\n",
    "GLY_20_count = 0\n",
    "for i in glycine_results['Glycine Diff']:\n",
    "    if ((i <= GLY_20) and (i >= -GLY_20)):\n",
    "        GLY_20_count = GLY_20_count +1\n",
    "print(\"Glycine:  \" + str(GLY_20_count))"
   ]
  },
  {
   "cell_type": "code",
   "execution_count": 12,
   "metadata": {},
   "outputs": [
    {
     "data": {
      "text/html": [
       "<div>\n",
       "<style scoped>\n",
       "    .dataframe tbody tr th:only-of-type {\n",
       "        vertical-align: middle;\n",
       "    }\n",
       "\n",
       "    .dataframe tbody tr th {\n",
       "        vertical-align: top;\n",
       "    }\n",
       "\n",
       "    .dataframe thead th {\n",
       "        text-align: right;\n",
       "    }\n",
       "</style>\n",
       "<table border=\"1\" class=\"dataframe\">\n",
       "  <thead>\n",
       "    <tr style=\"text-align: right;\">\n",
       "      <th></th>\n",
       "      <th>Glycine True</th>\n",
       "      <th>Glycine No Drop</th>\n",
       "      <th>Glycine Predicted</th>\n",
       "      <th>Glycine Diff</th>\n",
       "    </tr>\n",
       "  </thead>\n",
       "  <tbody>\n",
       "    <tr>\n",
       "      <th>0</th>\n",
       "      <td>5.894919</td>\n",
       "      <td>4.532170</td>\n",
       "      <td>4.645560</td>\n",
       "      <td>-1.249359</td>\n",
       "    </tr>\n",
       "    <tr>\n",
       "      <th>1</th>\n",
       "      <td>5.711435</td>\n",
       "      <td>4.719835</td>\n",
       "      <td>4.771531</td>\n",
       "      <td>-0.939903</td>\n",
       "    </tr>\n",
       "    <tr>\n",
       "      <th>2</th>\n",
       "      <td>5.609846</td>\n",
       "      <td>4.643008</td>\n",
       "      <td>4.735418</td>\n",
       "      <td>-0.874427</td>\n",
       "    </tr>\n",
       "    <tr>\n",
       "      <th>3</th>\n",
       "      <td>5.517563</td>\n",
       "      <td>4.548832</td>\n",
       "      <td>4.630389</td>\n",
       "      <td>-0.887174</td>\n",
       "    </tr>\n",
       "    <tr>\n",
       "      <th>4</th>\n",
       "      <td>6.208532</td>\n",
       "      <td>4.572505</td>\n",
       "      <td>4.627640</td>\n",
       "      <td>-1.580892</td>\n",
       "    </tr>\n",
       "    <tr>\n",
       "      <th>5</th>\n",
       "      <td>5.751254</td>\n",
       "      <td>4.944449</td>\n",
       "      <td>5.004629</td>\n",
       "      <td>-0.746625</td>\n",
       "    </tr>\n",
       "    <tr>\n",
       "      <th>6</th>\n",
       "      <td>5.762269</td>\n",
       "      <td>4.535750</td>\n",
       "      <td>4.641267</td>\n",
       "      <td>-1.121002</td>\n",
       "    </tr>\n",
       "    <tr>\n",
       "      <th>7</th>\n",
       "      <td>5.932998</td>\n",
       "      <td>4.789889</td>\n",
       "      <td>4.775115</td>\n",
       "      <td>-1.157883</td>\n",
       "    </tr>\n",
       "    <tr>\n",
       "      <th>8</th>\n",
       "      <td>5.669104</td>\n",
       "      <td>4.607874</td>\n",
       "      <td>4.669610</td>\n",
       "      <td>-0.999494</td>\n",
       "    </tr>\n",
       "    <tr>\n",
       "      <th>9</th>\n",
       "      <td>6.070126</td>\n",
       "      <td>4.542376</td>\n",
       "      <td>4.532696</td>\n",
       "      <td>-1.537430</td>\n",
       "    </tr>\n",
       "  </tbody>\n",
       "</table>\n",
       "</div>"
      ],
      "text/plain": [
       "   Glycine True  Glycine No Drop  Glycine Predicted  Glycine Diff\n",
       "0      5.894919         4.532170           4.645560     -1.249359\n",
       "1      5.711435         4.719835           4.771531     -0.939903\n",
       "2      5.609846         4.643008           4.735418     -0.874427\n",
       "3      5.517563         4.548832           4.630389     -0.887174\n",
       "4      6.208532         4.572505           4.627640     -1.580892\n",
       "5      5.751254         4.944449           5.004629     -0.746625\n",
       "6      5.762269         4.535750           4.641267     -1.121002\n",
       "7      5.932998         4.789889           4.775115     -1.157883\n",
       "8      5.669104         4.607874           4.669610     -0.999494\n",
       "9      6.070126         4.542376           4.532696     -1.537430"
      ]
     },
     "execution_count": 12,
     "metadata": {},
     "output_type": "execute_result"
    }
   ],
   "source": [
    "glycine_results"
   ]
  },
  {
   "cell_type": "code",
   "execution_count": 13,
   "metadata": {},
   "outputs": [
    {
     "data": {
      "text/plain": [
       "(-10.0, 10.0)"
      ]
     },
     "execution_count": 13,
     "metadata": {},
     "output_type": "execute_result"
    },
    {
     "data": {
      "image/png": "[encoded data removed]",
      "text/plain": [
       "<Figure size 640x480 with 1 Axes>"
      ]
     },
     "metadata": {},
     "output_type": "display_data"
    }
   ],
   "source": [
    "plt.scatter(glycine_results['Glycine True'], glycine_results['Glycine Diff'],  marker = 'o', facecolors='none', color = 'k', label='SVR Drop')\n",
    "plt.scatter(glycine_results['Glycine True'], glycine_results['Glycine No Drop']-glycine_results['Glycine True'] ,  marker = 'o', facecolors='none', color = 'darkorchid', label='SVR')\n",
    "plt.axhline((glycine_results['Glycine True'].max()/10)*2, color = 'k', linewidth = 0.6, linestyle = ':')\n",
    "plt.axhline(0, color = 'grey', linewidth = 0.5)\n",
    "plt.axhline(-(glycine_results['Glycine True'].max()/10)*2, color = 'k', linewidth = 0.6, linestyle = ':')\n",
    "plt.title('Dropout Glycine')\n",
    "plt.ylabel('Predicted - True Concentration (mM)')\n",
    "plt.legend(frameon = True, loc='upper left')\n",
    "plt.ylim(-10,10)\n",
    "#plt.xlabel('True Concentration (mM)')"
   ]
  },
  {
   "cell_type": "markdown",
   "metadata": {},
   "source": [
    "###  Butyric Acid"
   ]
  },
  {
   "cell_type": "code",
   "execution_count": 14,
   "metadata": {},
   "outputs": [],
   "source": [
    "# train test data split\n",
    "X_train, X_test, y_train, y_test = train_test_split(F_Dataset.T, F_Concs.T, test_size=0.3, random_state=42)\n",
    "# initialize regressor & fit\n",
    "regressor = GradientBoostingRegressor(loss = 'squared_error',n_estimators=100, learning_rate=0.5, max_depth=1, random_state=42)\n",
    "regressor.fit(X_train,y_train[1])\n",
    "# Estimate Field Sample\n",
    "y_un_pred_BUT_no_Drop_GBR = regressor.predict(Field_Samples.T) # predict on new data"
   ]
  },
  {
   "cell_type": "code",
   "execution_count": 15,
   "metadata": {},
   "outputs": [],
   "source": [
    "# train test data split\n",
    "X_train, X_test, y_train, y_test = train_test_split(F_Dataset.T, F_Concs.T, test_size=0.3, random_state=42)\n",
    "# initialize regressor & fit\n",
    "regressor = HistGradientBoostingRegressor(random_state = 42)\n",
    "regressor.fit(X_train,y_train[1])\n",
    "# Estimate Field Sample\n",
    "y_un_pred_BUT_no_Drop_HGBR = regressor.predict(Field_Samples.T) # predict on new data"
   ]
  },
  {
   "cell_type": "code",
   "execution_count": 16,
   "metadata": {},
   "outputs": [],
   "source": [
    "# train test data split\n",
    "X_train, X_test, y_train, y_test = train_test_split(F_Dataset.T, F_Concs.T, test_size=0.3, random_state=42)\n",
    "# initialize regressor & fit\n",
    "regressor = SVR(kernel='rbf')\n",
    "regressor.fit(X_train,y_train[1])\n",
    "# Estimate Field Sample\n",
    "y_un_pred_BUT_no_Drop_SVR= regressor.predict(Field_Samples.T) # predict on new data"
   ]
  },
  {
   "cell_type": "code",
   "execution_count": 17,
   "metadata": {},
   "outputs": [],
   "source": [
    "butyric_acid_results = pd.DataFrame({'Butyric Acid True':Field_Concs[1], 'Butyric Acid No Drop SVR':y_un_pred_BUT_no_Drop_SVR, 'Butyric Acid No Drop GBR':y_un_pred_BUT_no_Drop_GBR , 'Butyric Acid No Drop HGBR':y_un_pred_BUT_no_Drop_HGBR })"
   ]
  },
  {
   "cell_type": "code",
   "execution_count": 18,
   "metadata": {},
   "outputs": [],
   "source": [
    "butyric_acid_preds_SVR = []\n",
    "counter = 0"
   ]
  },
  {
   "cell_type": "code",
   "execution_count": 19,
   "metadata": {},
   "outputs": [],
   "source": [
    "for i in drop_lists:\n",
    "    #Drop Data\n",
    "    F_Dataset_temp = F_Dataset.drop(i, axis = 1)\n",
    "    F_Conc_temp = F_Concs.drop(i, axis = 1)\n",
    "    # train test data split\n",
    "    X_train, X_test, y_train, y_test = train_test_split(F_Dataset_temp.T, F_Conc_temp.T, test_size=0.3, random_state=42)\n",
    "    # initialize regressor & fit\n",
    "    regressor = SVR(kernel='rbf')\n",
    "    regressor.fit(X_train,y_train[1])\n",
    "    # Estimate Field Sample\n",
    "    y_un_pred_BUT = regressor.predict(Field_Samples.T) # predict on new data\n",
    "    butyric_acid_preds_SVR.append(y_un_pred_BUT[counter])\n",
    "    counter = counter +1"
   ]
  },
  {
   "cell_type": "code",
   "execution_count": 20,
   "metadata": {},
   "outputs": [],
   "source": [
    "butyric_acid_results['Butyric Acid Drop SVR'] = butyric_acid_preds_SVR"
   ]
  },
  {
   "cell_type": "code",
   "execution_count": 21,
   "metadata": {},
   "outputs": [],
   "source": [
    "butyric_acid_results['Butyric Acid Drop SVR Diff'] = butyric_acid_results['Butyric Acid Drop SVR'] - butyric_acid_results['Butyric Acid True']"
   ]
  },
  {
   "cell_type": "code",
   "execution_count": 22,
   "metadata": {},
   "outputs": [
    {
     "name": "stdout",
     "output_type": "stream",
     "text": [
      "Butyric Acid (SVR) :  9\n"
     ]
    }
   ],
   "source": [
    "#Butyric Acid (BUT)\n",
    "BUT_20 = (max(butyric_acid_results['Butyric Acid True'])/10)*2\n",
    "GLU_20_count = 0\n",
    "for i in butyric_acid_results['Butyric Acid Drop SVR Diff']:\n",
    "    if ((i <= BUT_20) and (i >= -BUT_20)):\n",
    "        GLU_20_count = GLU_20_count +1\n",
    "print(\"Butyric Acid (SVR) :  \" + str(GLU_20_count))"
   ]
  },
  {
   "cell_type": "code",
   "execution_count": 23,
   "metadata": {},
   "outputs": [],
   "source": [
    "butyric_acid_preds_GBR = []\n",
    "counter = 0"
   ]
  },
  {
   "cell_type": "code",
   "execution_count": 24,
   "metadata": {},
   "outputs": [],
   "source": [
    "for i in drop_lists:\n",
    "    #Drop Data\n",
    "    F_Dataset_temp = F_Dataset.drop(i, axis = 1)\n",
    "    F_Conc_temp = F_Concs.drop(i, axis = 1)\n",
    "    # train test data split\n",
    "    X_train, X_test, y_train, y_test = train_test_split(F_Dataset_temp.T, F_Conc_temp.T, test_size=0.3, random_state=42)\n",
    "    # initialize regressor & fit\n",
    "    regressor = GradientBoostingRegressor(loss = 'squared_error',n_estimators=100, learning_rate=0.5, max_depth=1, random_state=42)\n",
    "    regressor.fit(X_train,y_train[1])\n",
    "    # Estimate Field Sample\n",
    "    y_un_pred_BUT = regressor.predict(Field_Samples.T) # predict on new data\n",
    "    butyric_acid_preds_GBR.append(y_un_pred_BUT[counter])\n",
    "    counter = counter +1"
   ]
  },
  {
   "cell_type": "code",
   "execution_count": 25,
   "metadata": {},
   "outputs": [],
   "source": [
    "butyric_acid_results['Butyric Acid Drop GBR'] = butyric_acid_preds_GBR"
   ]
  },
  {
   "cell_type": "code",
   "execution_count": 26,
   "metadata": {},
   "outputs": [],
   "source": [
    "butyric_acid_results['Butyric Acid Drop GBR Diff'] = butyric_acid_results['Butyric Acid Drop GBR'] - butyric_acid_results['Butyric Acid True']"
   ]
  },
  {
   "cell_type": "code",
   "execution_count": 27,
   "metadata": {},
   "outputs": [
    {
     "name": "stdout",
     "output_type": "stream",
     "text": [
      "Butyric Acid :  8\n"
     ]
    }
   ],
   "source": [
    "#Butyric Acid (BUT)\n",
    "BUT_20 = (max(butyric_acid_results['Butyric Acid True'])/10)*2\n",
    "GLU_20_count = 0\n",
    "for i in butyric_acid_results['Butyric Acid Drop GBR Diff']:\n",
    "    if ((i <= BUT_20) and (i >= -BUT_20)):\n",
    "        GLU_20_count = GLU_20_count +1\n",
    "print(\"Butyric Acid :  \" + str(GLU_20_count))"
   ]
  },
  {
   "cell_type": "code",
   "execution_count": 28,
   "metadata": {},
   "outputs": [],
   "source": [
    "butyric_acid_preds_HGBR = []\n",
    "counter = 0"
   ]
  },
  {
   "cell_type": "code",
   "execution_count": 29,
   "metadata": {},
   "outputs": [],
   "source": [
    "for i in drop_lists:\n",
    "    #Drop Data\n",
    "    F_Dataset_temp = F_Dataset.drop(i, axis = 1)\n",
    "    F_Conc_temp = F_Concs.drop(i, axis = 1)\n",
    "    # train test data split\n",
    "    X_train, X_test, y_train, y_test = train_test_split(F_Dataset_temp.T, F_Conc_temp.T, test_size=0.3, random_state=42)\n",
    "    # initialize regressor & fit\n",
    "    regressor = HistGradientBoostingRegressor(random_state = 42)\n",
    "    regressor.fit(X_train,y_train[1])\n",
    "    # Estimate Field Sample\n",
    "    y_un_pred_BUT = regressor.predict(Field_Samples.T) # predict on new data\n",
    "    butyric_acid_preds_HGBR.append(y_un_pred_BUT[counter])\n",
    "    counter = counter +1"
   ]
  },
  {
   "cell_type": "code",
   "execution_count": 30,
   "metadata": {},
   "outputs": [],
   "source": [
    "butyric_acid_results['Butyric Acid Drop HGBR'] = butyric_acid_preds_HGBR"
   ]
  },
  {
   "cell_type": "code",
   "execution_count": 31,
   "metadata": {},
   "outputs": [],
   "source": [
    "butyric_acid_results['Butyric Acid Drop HGBR Diff'] = butyric_acid_results['Butyric Acid Drop HGBR'] - butyric_acid_results['Butyric Acid True']"
   ]
  },
  {
   "cell_type": "code",
   "execution_count": 32,
   "metadata": {},
   "outputs": [
    {
     "name": "stdout",
     "output_type": "stream",
     "text": [
      "Butyric Acid :  7\n"
     ]
    }
   ],
   "source": [
    "#Butyric Acid (BUT)\n",
    "BUT_20 = (max(butyric_acid_results['Butyric Acid True'])/10)*2\n",
    "GLU_20_count = 0\n",
    "for i in butyric_acid_results['Butyric Acid Drop HGBR Diff']:\n",
    "    if ((i <= BUT_20) and (i >= -BUT_20)):\n",
    "        GLU_20_count = GLU_20_count +1\n",
    "print(\"Butyric Acid :  \" + str(GLU_20_count))"
   ]
  },
  {
   "cell_type": "code",
   "execution_count": 33,
   "metadata": {},
   "outputs": [
    {
     "data": {
      "text/html": [
       "<div>\n",
       "<style scoped>\n",
       "    .dataframe tbody tr th:only-of-type {\n",
       "        vertical-align: middle;\n",
       "    }\n",
       "\n",
       "    .dataframe tbody tr th {\n",
       "        vertical-align: top;\n",
       "    }\n",
       "\n",
       "    .dataframe thead th {\n",
       "        text-align: right;\n",
       "    }\n",
       "</style>\n",
       "<table border=\"1\" class=\"dataframe\">\n",
       "  <thead>\n",
       "    <tr style=\"text-align: right;\">\n",
       "      <th></th>\n",
       "      <th>Butyric Acid True</th>\n",
       "      <th>Butyric Acid No Drop SVR</th>\n",
       "      <th>Butyric Acid No Drop GBR</th>\n",
       "      <th>Butyric Acid No Drop HGBR</th>\n",
       "      <th>Butyric Acid Drop SVR</th>\n",
       "      <th>Butyric Acid Drop SVR Diff</th>\n",
       "      <th>Butyric Acid Drop GBR</th>\n",
       "      <th>Butyric Acid Drop GBR Diff</th>\n",
       "      <th>Butyric Acid Drop HGBR</th>\n",
       "      <th>Butyric Acid Drop HGBR Diff</th>\n",
       "    </tr>\n",
       "  </thead>\n",
       "  <tbody>\n",
       "    <tr>\n",
       "      <th>0</th>\n",
       "      <td>26.80909</td>\n",
       "      <td>20.116590</td>\n",
       "      <td>22.501136</td>\n",
       "      <td>19.775995</td>\n",
       "      <td>21.567751</td>\n",
       "      <td>-5.241339</td>\n",
       "      <td>21.790018</td>\n",
       "      <td>-5.019072</td>\n",
       "      <td>19.980308</td>\n",
       "      <td>-6.828782</td>\n",
       "    </tr>\n",
       "    <tr>\n",
       "      <th>1</th>\n",
       "      <td>22.23011</td>\n",
       "      <td>20.637514</td>\n",
       "      <td>20.492352</td>\n",
       "      <td>20.144361</td>\n",
       "      <td>21.058315</td>\n",
       "      <td>-1.171795</td>\n",
       "      <td>16.792635</td>\n",
       "      <td>-5.437475</td>\n",
       "      <td>18.398603</td>\n",
       "      <td>-3.831507</td>\n",
       "    </tr>\n",
       "    <tr>\n",
       "      <th>2</th>\n",
       "      <td>26.26218</td>\n",
       "      <td>20.444665</td>\n",
       "      <td>14.312612</td>\n",
       "      <td>16.715888</td>\n",
       "      <td>20.089588</td>\n",
       "      <td>-6.172592</td>\n",
       "      <td>4.425222</td>\n",
       "      <td>-21.836958</td>\n",
       "      <td>9.226060</td>\n",
       "      <td>-17.036120</td>\n",
       "    </tr>\n",
       "    <tr>\n",
       "      <th>3</th>\n",
       "      <td>21.82159</td>\n",
       "      <td>20.157581</td>\n",
       "      <td>21.465941</td>\n",
       "      <td>37.507306</td>\n",
       "      <td>20.646065</td>\n",
       "      <td>-1.175525</td>\n",
       "      <td>24.128071</td>\n",
       "      <td>2.306481</td>\n",
       "      <td>37.742693</td>\n",
       "      <td>15.921103</td>\n",
       "    </tr>\n",
       "    <tr>\n",
       "      <th>4</th>\n",
       "      <td>48.10749</td>\n",
       "      <td>20.220389</td>\n",
       "      <td>52.767911</td>\n",
       "      <td>40.982101</td>\n",
       "      <td>19.751235</td>\n",
       "      <td>-28.356255</td>\n",
       "      <td>71.169886</td>\n",
       "      <td>23.062396</td>\n",
       "      <td>46.664618</td>\n",
       "      <td>-1.442872</td>\n",
       "    </tr>\n",
       "    <tr>\n",
       "      <th>5</th>\n",
       "      <td>25.90916</td>\n",
       "      <td>21.237520</td>\n",
       "      <td>30.174143</td>\n",
       "      <td>22.584980</td>\n",
       "      <td>20.669599</td>\n",
       "      <td>-5.239561</td>\n",
       "      <td>20.719461</td>\n",
       "      <td>-5.189699</td>\n",
       "      <td>18.602164</td>\n",
       "      <td>-7.306996</td>\n",
       "    </tr>\n",
       "    <tr>\n",
       "      <th>6</th>\n",
       "      <td>23.30520</td>\n",
       "      <td>20.137138</td>\n",
       "      <td>20.109770</td>\n",
       "      <td>14.378512</td>\n",
       "      <td>19.872291</td>\n",
       "      <td>-3.432909</td>\n",
       "      <td>19.699598</td>\n",
       "      <td>-3.605602</td>\n",
       "      <td>18.596317</td>\n",
       "      <td>-4.708883</td>\n",
       "    </tr>\n",
       "    <tr>\n",
       "      <th>7</th>\n",
       "      <td>21.71587</td>\n",
       "      <td>20.798258</td>\n",
       "      <td>23.627359</td>\n",
       "      <td>17.761081</td>\n",
       "      <td>20.452943</td>\n",
       "      <td>-1.262927</td>\n",
       "      <td>26.058782</td>\n",
       "      <td>4.342912</td>\n",
       "      <td>26.268328</td>\n",
       "      <td>4.552458</td>\n",
       "    </tr>\n",
       "    <tr>\n",
       "      <th>8</th>\n",
       "      <td>24.81893</td>\n",
       "      <td>20.346393</td>\n",
       "      <td>18.935234</td>\n",
       "      <td>17.400239</td>\n",
       "      <td>20.001916</td>\n",
       "      <td>-4.817014</td>\n",
       "      <td>18.164562</td>\n",
       "      <td>-6.654368</td>\n",
       "      <td>12.872835</td>\n",
       "      <td>-11.946095</td>\n",
       "    </tr>\n",
       "    <tr>\n",
       "      <th>9</th>\n",
       "      <td>21.91971</td>\n",
       "      <td>20.133696</td>\n",
       "      <td>26.454348</td>\n",
       "      <td>19.730987</td>\n",
       "      <td>21.110525</td>\n",
       "      <td>-0.809185</td>\n",
       "      <td>25.737638</td>\n",
       "      <td>3.817928</td>\n",
       "      <td>19.281049</td>\n",
       "      <td>-2.638661</td>\n",
       "    </tr>\n",
       "  </tbody>\n",
       "</table>\n",
       "</div>"
      ],
      "text/plain": [
       "   Butyric Acid True  Butyric Acid No Drop SVR  Butyric Acid No Drop GBR  \\\n",
       "0           26.80909                 20.116590                 22.501136   \n",
       "1           22.23011                 20.637514                 20.492352   \n",
       "2           26.26218                 20.444665                 14.312612   \n",
       "3           21.82159                 20.157581                 21.465941   \n",
       "4           48.10749                 20.220389                 52.767911   \n",
       "5           25.90916                 21.237520                 30.174143   \n",
       "6           23.30520                 20.137138                 20.109770   \n",
       "7           21.71587                 20.798258                 23.627359   \n",
       "8           24.81893                 20.346393                 18.935234   \n",
       "9           21.91971                 20.133696                 26.454348   \n",
       "\n",
       "   Butyric Acid No Drop HGBR  Butyric Acid Drop SVR  \\\n",
       "0                  19.775995              21.567751   \n",
       "1                  20.144361              21.058315   \n",
       "2                  16.715888              20.089588   \n",
       "3                  37.507306              20.646065   \n",
       "4                  40.982101              19.751235   \n",
       "5                  22.584980              20.669599   \n",
       "6                  14.378512              19.872291   \n",
       "7                  17.761081              20.452943   \n",
       "8                  17.400239              20.001916   \n",
       "9                  19.730987              21.110525   \n",
       "\n",
       "   Butyric Acid Drop SVR Diff  Butyric Acid Drop GBR  \\\n",
       "0                   -5.241339              21.790018   \n",
       "1                   -1.171795              16.792635   \n",
       "2                   -6.172592               4.425222   \n",
       "3                   -1.175525              24.128071   \n",
       "4                  -28.356255              71.169886   \n",
       "5                   -5.239561              20.719461   \n",
       "6                   -3.432909              19.699598   \n",
       "7                   -1.262927              26.058782   \n",
       "8                   -4.817014              18.164562   \n",
       "9                   -0.809185              25.737638   \n",
       "\n",
       "   Butyric Acid Drop GBR Diff  Butyric Acid Drop HGBR  \\\n",
       "0                   -5.019072               19.980308   \n",
       "1                   -5.437475               18.398603   \n",
       "2                  -21.836958                9.226060   \n",
       "3                    2.306481               37.742693   \n",
       "4                   23.062396               46.664618   \n",
       "5                   -5.189699               18.602164   \n",
       "6                   -3.605602               18.596317   \n",
       "7                    4.342912               26.268328   \n",
       "8                   -6.654368               12.872835   \n",
       "9                    3.817928               19.281049   \n",
       "\n",
       "   Butyric Acid Drop HGBR Diff  \n",
       "0                    -6.828782  \n",
       "1                    -3.831507  \n",
       "2                   -17.036120  \n",
       "3                    15.921103  \n",
       "4                    -1.442872  \n",
       "5                    -7.306996  \n",
       "6                    -4.708883  \n",
       "7                     4.552458  \n",
       "8                   -11.946095  \n",
       "9                    -2.638661  "
      ]
     },
     "execution_count": 33,
     "metadata": {},
     "output_type": "execute_result"
    }
   ],
   "source": [
    "butyric_acid_results"
   ]
  },
  {
   "cell_type": "code",
   "execution_count": 34,
   "metadata": {},
   "outputs": [
    {
     "data": {
      "text/plain": [
       "<matplotlib.legend.Legend at 0x1a14809ec90>"
      ]
     },
     "execution_count": 34,
     "metadata": {},
     "output_type": "execute_result"
    },
    {
     "data": {
      "image/png": "[encoded data removed]",
      "text/plain": [
       "<Figure size 640x480 with 1 Axes>"
      ]
     },
     "metadata": {},
     "output_type": "display_data"
    }
   ],
   "source": [
    "plt.scatter(butyric_acid_results['Butyric Acid True'], butyric_acid_results['Butyric Acid No Drop SVR']-butyric_acid_results['Butyric Acid True'],  marker = 's', color = 'k', label='SVR')\n",
    "plt.scatter(butyric_acid_results['Butyric Acid True'], butyric_acid_results['Butyric Acid Drop SVR']-butyric_acid_results['Butyric Acid True'],  marker = 's', color = 'darkorchid', label='SVR Drop')\n",
    "plt.scatter(butyric_acid_results['Butyric Acid True'], butyric_acid_results['Butyric Acid Drop GBR']-butyric_acid_results['Butyric Acid True'],  marker = 's', color = 'r', label='GBR Drop')\n",
    "plt.scatter(butyric_acid_results['Butyric Acid True'], butyric_acid_results['Butyric Acid Drop HGBR']-butyric_acid_results['Butyric Acid True'],  marker = 's', color = 'gold', label='HGBR Drop')\n",
    "\n",
    "plt.axhline((butyric_acid_results['Butyric Acid True'].max()/10)*2, color = 'k', linewidth = 0.6, linestyle = ':')\n",
    "plt.axhline(0, color = 'grey', linewidth = 0.5)\n",
    "plt.axhline(-(butyric_acid_results['Butyric Acid True'].max()/10)*2, color = 'k', linewidth = 0.6, linestyle = ':')\n",
    "plt.title('Dropout Butyric Acid')\n",
    "plt.ylabel('Predicted - True Concentration (mM)')\n",
    "plt.legend(frameon = True)\n",
    "\n",
    "#plt.xlabel('True Concentration (mM)')"
   ]
  },
  {
   "cell_type": "markdown",
   "metadata": {},
   "source": [
    "### Glucose"
   ]
  },
  {
   "cell_type": "code",
   "execution_count": 35,
   "metadata": {},
   "outputs": [],
   "source": [
    "# train test data split\n",
    "X_train, X_test, y_train, y_test = train_test_split(F_Dataset.T, F_Concs.T, test_size=0.3, random_state=42)\n",
    "# initialize regressor & fit\n",
    "regressor = SVR(kernel='rbf')\n",
    "regressor.fit(X_train,y_train[2])\n",
    "# Estimate Field Sample\n",
    "y_un_pred_GLU_no_Drop = regressor.predict(Field_Samples.T) # predict on new data"
   ]
  },
  {
   "cell_type": "code",
   "execution_count": 36,
   "metadata": {},
   "outputs": [],
   "source": [
    "glucose_results = pd.DataFrame({'Glucose True':Field_Concs[2], 'Glucose No Drop':y_un_pred_GLU_no_Drop})"
   ]
  },
  {
   "cell_type": "code",
   "execution_count": 37,
   "metadata": {},
   "outputs": [],
   "source": [
    "glucose_preds = []\n",
    "counter = 0"
   ]
  },
  {
   "cell_type": "code",
   "execution_count": 38,
   "metadata": {},
   "outputs": [],
   "source": [
    "for i in drop_lists:\n",
    "    #Drop Data\n",
    "    F_Dataset_temp = F_Dataset.drop(i, axis = 1)\n",
    "    F_Conc_temp = F_Concs.drop(i, axis = 1)\n",
    "    # train test data split\n",
    "    X_train, X_test, y_train, y_test = train_test_split(F_Dataset_temp.T, F_Conc_temp.T, test_size=0.3, random_state=42)\n",
    "    # initialize regressor & fit\n",
    "    regressor = GradientBoostingRegressor(loss = 'squared_error',n_estimators=100, learning_rate=0.5, max_depth=1, random_state=42)\n",
    "    regressor.fit(X_train,y_train[1])\n",
    "    # Estimate Field Sample\n",
    "    y_un_pred_GLU = regressor.predict(Field_Samples.T) # predict on new data\n",
    "    glucose_preds.append(y_un_pred_GLU[counter])\n",
    "    counter = counter +1"
   ]
  },
  {
   "cell_type": "code",
   "execution_count": 39,
   "metadata": {},
   "outputs": [],
   "source": [
    "glucose_results['Glucose Predicted'] = glucose_preds"
   ]
  },
  {
   "cell_type": "code",
   "execution_count": 40,
   "metadata": {},
   "outputs": [],
   "source": [
    "glucose_results['Glucose Diff'] = glucose_results['Glucose Predicted'] - glucose_results['Glucose True']"
   ]
  },
  {
   "cell_type": "code",
   "execution_count": 41,
   "metadata": {},
   "outputs": [
    {
     "name": "stdout",
     "output_type": "stream",
     "text": [
      "8.113855782\n",
      "Glucose :  4\n"
     ]
    }
   ],
   "source": [
    "#Glucose (GLU)\n",
    "GLU_20 = (max(glucose_results['Glucose True'])/10)*2\n",
    "print(GLU_20)\n",
    "GLU_20_count = 0\n",
    "for i in glucose_results['Glucose Diff']:\n",
    "    if ((i <= GLU_20) and (i >= -GLU_20)):\n",
    "        GLU_20_count = GLU_20_count +1\n",
    "print(\"Glucose :  \" + str(GLU_20_count))"
   ]
  },
  {
   "cell_type": "code",
   "execution_count": 42,
   "metadata": {},
   "outputs": [
    {
     "data": {
      "text/plain": [
       "Text(0.5, 0, 'True Concentration (mM)')"
      ]
     },
     "execution_count": 42,
     "metadata": {},
     "output_type": "execute_result"
    },
    {
     "data": {
      "image/png": "[encoded data removed]",
      "text/plain": [
       "<Figure size 640x480 with 1 Axes>"
      ]
     },
     "metadata": {},
     "output_type": "display_data"
    }
   ],
   "source": [
    "plt.scatter(glucose_results['Glucose True'], glucose_results['Glucose No Drop']-glucose_results['Glucose True'], color = 'darkorchid', marker = '*', label='SVR')\n",
    "plt.scatter(glucose_results['Glucose True'], glucose_results['Glucose Diff'], color = 'k', marker = '*', label='SVR Drop')\n",
    "plt.axhline((glucose_results['Glucose True'].max()/10)*2, color = 'k', linewidth = 0.6, linestyle = ':')\n",
    "plt.axhline(0, color = 'grey', linewidth = 0.5)\n",
    "plt.axhline(-(glucose_results['Glucose True'].max()/10)*2, color = 'k', linewidth = 0.6, linestyle = ':')\n",
    "plt.legend(loc='upper left')\n",
    "plt.title('Dropout Glucose')\n",
    "plt.ylabel('Predicted - True Concentration (mM)')\n",
    "plt.xlabel('True Concentration (mM)')"
   ]
  },
  {
   "cell_type": "code",
   "execution_count": 43,
   "metadata": {},
   "outputs": [
    {
     "data": {
      "text/html": [
       "<div>\n",
       "<style scoped>\n",
       "    .dataframe tbody tr th:only-of-type {\n",
       "        vertical-align: middle;\n",
       "    }\n",
       "\n",
       "    .dataframe tbody tr th {\n",
       "        vertical-align: top;\n",
       "    }\n",
       "\n",
       "    .dataframe thead th {\n",
       "        text-align: right;\n",
       "    }\n",
       "</style>\n",
       "<table border=\"1\" class=\"dataframe\">\n",
       "  <thead>\n",
       "    <tr style=\"text-align: right;\">\n",
       "      <th></th>\n",
       "      <th>Glucose True</th>\n",
       "      <th>Glucose No Drop</th>\n",
       "      <th>Glucose Predicted</th>\n",
       "      <th>Glucose Diff</th>\n",
       "    </tr>\n",
       "  </thead>\n",
       "  <tbody>\n",
       "    <tr>\n",
       "      <th>0</th>\n",
       "      <td>14.202624</td>\n",
       "      <td>13.116223</td>\n",
       "      <td>21.790018</td>\n",
       "      <td>7.587394</td>\n",
       "    </tr>\n",
       "    <tr>\n",
       "      <th>1</th>\n",
       "      <td>6.370760</td>\n",
       "      <td>13.582554</td>\n",
       "      <td>16.792635</td>\n",
       "      <td>10.421875</td>\n",
       "    </tr>\n",
       "    <tr>\n",
       "      <th>2</th>\n",
       "      <td>12.952698</td>\n",
       "      <td>13.406011</td>\n",
       "      <td>4.425222</td>\n",
       "      <td>-8.527476</td>\n",
       "    </tr>\n",
       "    <tr>\n",
       "      <th>3</th>\n",
       "      <td>20.186807</td>\n",
       "      <td>13.152176</td>\n",
       "      <td>24.128071</td>\n",
       "      <td>3.941264</td>\n",
       "    </tr>\n",
       "    <tr>\n",
       "      <th>4</th>\n",
       "      <td>29.845762</td>\n",
       "      <td>13.206486</td>\n",
       "      <td>71.169886</td>\n",
       "      <td>41.324124</td>\n",
       "    </tr>\n",
       "    <tr>\n",
       "      <th>5</th>\n",
       "      <td>11.744491</td>\n",
       "      <td>14.131122</td>\n",
       "      <td>20.719461</td>\n",
       "      <td>8.974970</td>\n",
       "    </tr>\n",
       "    <tr>\n",
       "      <th>6</th>\n",
       "      <td>10.935027</td>\n",
       "      <td>13.130576</td>\n",
       "      <td>19.699598</td>\n",
       "      <td>8.764571</td>\n",
       "    </tr>\n",
       "    <tr>\n",
       "      <th>7</th>\n",
       "      <td>40.569279</td>\n",
       "      <td>13.742182</td>\n",
       "      <td>26.058782</td>\n",
       "      <td>-14.510496</td>\n",
       "    </tr>\n",
       "    <tr>\n",
       "      <th>8</th>\n",
       "      <td>14.896405</td>\n",
       "      <td>13.315844</td>\n",
       "      <td>18.164562</td>\n",
       "      <td>3.268158</td>\n",
       "    </tr>\n",
       "    <tr>\n",
       "      <th>9</th>\n",
       "      <td>17.815518</td>\n",
       "      <td>13.134474</td>\n",
       "      <td>25.737638</td>\n",
       "      <td>7.922119</td>\n",
       "    </tr>\n",
       "  </tbody>\n",
       "</table>\n",
       "</div>"
      ],
      "text/plain": [
       "   Glucose True  Glucose No Drop  Glucose Predicted  Glucose Diff\n",
       "0     14.202624        13.116223          21.790018      7.587394\n",
       "1      6.370760        13.582554          16.792635     10.421875\n",
       "2     12.952698        13.406011           4.425222     -8.527476\n",
       "3     20.186807        13.152176          24.128071      3.941264\n",
       "4     29.845762        13.206486          71.169886     41.324124\n",
       "5     11.744491        14.131122          20.719461      8.974970\n",
       "6     10.935027        13.130576          19.699598      8.764571\n",
       "7     40.569279        13.742182          26.058782    -14.510496\n",
       "8     14.896405        13.315844          18.164562      3.268158\n",
       "9     17.815518        13.134474          25.737638      7.922119"
      ]
     },
     "execution_count": 43,
     "metadata": {},
     "output_type": "execute_result"
    }
   ],
   "source": [
    "glucose_results"
   ]
  },
  {
   "cell_type": "code",
   "execution_count": null,
   "metadata": {},
   "outputs": [],
   "source": []
  }
 ],
 "metadata": {
  "kernelspec": {
   "display_name": "Python 3",
   "language": "python",
   "name": "python3"
  },
  "language_info": {
   "codemirror_mode": {
    "name": "ipython",
    "version": 3
   },
   "file_extension": ".py",
   "mimetype": "text/x-python",
   "name": "python",
   "nbconvert_exporter": "python",
   "pygments_lexer": "ipython3",
   "version": "3.8.5"
  }
 },
 "nbformat": 4,
 "nbformat_minor": 5
}
