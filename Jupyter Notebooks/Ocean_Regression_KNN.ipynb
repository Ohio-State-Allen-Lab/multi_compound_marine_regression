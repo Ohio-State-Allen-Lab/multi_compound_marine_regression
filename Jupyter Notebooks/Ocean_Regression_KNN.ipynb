{
 "cells": [
  {
   "cell_type": "markdown",
   "metadata": {},
   "source": [
    "# Multi-Part Ocean Regression - KNN"
   ]
  },
  {
   "cell_type": "code",
   "execution_count": 1,
   "metadata": {},
   "outputs": [],
   "source": [
    "#Data Processing and Management\n",
    "import os\n",
    "import glob\n",
    "import csv\n",
    "import pandas as pd\n",
    "import numpy as np\n",
    "import math\n",
    "\n",
    "\n",
    "#ML Model\n",
    "from sklearn.model_selection import train_test_split\n",
    "from sklearn.neighbors import KNeighborsRegressor\n",
    "\n",
    "#Model and Data Analysis\n",
    "from sklearn.metrics import mean_squared_error, r2_score\n",
    "from sklearn import metrics\n",
    "from sklearn.metrics import accuracy_score\n",
    "from sklearn.feature_selection import SelectKBest\n",
    "from sklearn.feature_selection import f_regression\n",
    "\n",
    "#Imaging and Plotting\n",
    "import matplotlib.pyplot as plt"
   ]
  },
  {
   "cell_type": "markdown",
   "metadata": {},
   "source": [
    "### Import Data"
   ]
  },
  {
   "cell_type": "code",
   "execution_count": 2,
   "metadata": {},
   "outputs": [],
   "source": [
    "path = r'C:\\Users\\north.154\\OneDrive - The Ohio State University\\Desktop\\Current Work\\Papers\\Ocean ML Paper'\n",
    "\n",
    "#Pull in Wavenumbers for Plotting\n",
    "wavenumbers = pd.read_csv(path + '//'+'Wavenumbers.csv')\n",
    "#Pull in water references\n",
    "water =pd.read_csv(path + '//'+'Water.csv')\n",
    "\n",
    "#Lab Water Samples with Spikes\n",
    "N_Dataset = pd.read_csv(path + '//'+'N_Dataset.csv')\n",
    "N_Concs = pd.read_csv(path + '//'+'Ocean_ML_Concs_N_Samples.csv')\n",
    "N_Concs.drop(columns=N_Concs.columns[0], axis=1, inplace=True)\n",
    "#Field Samples with Spikes\n",
    "F_Dataset = pd.read_csv(path + '//'+'F_Dataset.csv')\n",
    "F_Concs = pd.read_csv(path + '//'+'Ocean_ML_Concs_F_Samples.csv')\n",
    "F_Concs.drop(columns=F_Concs.columns[0], axis=1, inplace=True)\n",
    "#Field Samples Without Spikes\n",
    "Field_Samples = pd.read_csv(path + '//'+'Field_Samples.csv')\n",
    "Field_Concs = pd.read_csv(path + '//'+'Ocean_ML_Concs_FIELD.csv')\n",
    "Field_Concs.drop(columns=Field_Concs.columns[0], axis=1, inplace=True)\n",
    "Field_Concs = Field_Concs.T"
   ]
  },
  {
   "cell_type": "markdown",
   "metadata": {},
   "source": [
    "# Preprocessing"
   ]
  },
  {
   "cell_type": "code",
   "execution_count": 3,
   "metadata": {},
   "outputs": [],
   "source": [
    "#Lab Samples w/ Spikes\n",
    "#Baseline Correction\n",
    "avg = N_Dataset.iloc[500:800,:].mean()\n",
    "N_Dataset.iloc[0:1000,:] = N_Dataset.iloc[0:1000,:] - avg\n",
    "#Normalization\n",
    "N_Dataset = N_Dataset/N_Dataset.iloc[1100,:]\n",
    "\n",
    "#Field Samples w/ Spikes\n",
    "#Baseline Correction\n",
    "avg = F_Dataset.iloc[500:800,:].mean()\n",
    "F_Dataset.iloc[0:1000,:] = F_Dataset.iloc[0:1000,:] - avg\n",
    "#Normalization\n",
    "F_Dataset = F_Dataset/F_Dataset.iloc[1100,:]\n",
    "\n",
    "#Field Samples w/o Spikes\n",
    "#Baseline Correction\n",
    "avg = Field_Samples.iloc[500:800,:].mean()\n",
    "Field_Samples.iloc[0:1000,:] = Field_Samples.iloc[0:1000,:] - avg\n",
    "#Normalization\n",
    "Field_Samples = Field_Samples/Field_Samples.iloc[1100,:]"
   ]
  },
  {
   "cell_type": "markdown",
   "metadata": {},
   "source": [
    "### Information Regarding Format of Concs Files"
   ]
  },
  {
   "attachments": {
    "image-5.png": {
     "image/png": "[encoded data removed]"
    }
   },
   "cell_type": "markdown",
   "metadata": {},
   "source": [
    "![image-5.png](attachment:image-5.png)"
   ]
  },
  {
   "cell_type": "code",
   "execution_count": 4,
   "metadata": {},
   "outputs": [],
   "source": [
    "# train test data split\n",
    "X_train, X_test, y_train, y_test = train_test_split(N_Dataset.T, N_Concs.T, test_size=0.3, random_state=42)\n",
    "X_Validate, X_test, y_validate, y_test = train_test_split(X_test, y_test, test_size=0.5, random_state=42)"
   ]
  },
  {
   "cell_type": "markdown",
   "metadata": {},
   "source": [
    "### Glycine"
   ]
  },
  {
   "cell_type": "code",
   "execution_count": 5,
   "metadata": {},
   "outputs": [],
   "source": [
    "# initialize regressor & fit\n",
    "regressor = KNeighborsRegressor(n_neighbors = 5)\n",
    "regressor.fit(X_train,y_train[0])\n",
    "\n",
    "y_calibrate = regressor.predict(X_train) #Final Training Results\n",
    "y_pred_GLY = regressor.predict(X_test) # Final Testing Results\n",
    "y_val = regressor.predict(X_Validate)\n",
    "y_un_pred_GLY = regressor.predict(Field_Samples.T) # predict on new data"
   ]
  },
  {
   "cell_type": "code",
   "execution_count": 6,
   "metadata": {},
   "outputs": [
    {
     "name": "stdout",
     "output_type": "stream",
     "text": [
      "*KNN Model Statistics - GLYCINE*\n",
      "R Squared Score: 0.522276\n",
      "________________________________________________________________\n",
      "-Errors from Calibration-\n",
      "RMSE: 17.4449 M\n",
      "Mean Absolute Error: 12.123138 M\n",
      "________________________________________________________________\n",
      "-Errors from Testing Data-\n",
      "RMSE: 18.6978 M\n",
      "Mean Absolute Error: 15.344418 M\n",
      "________________________________________________________________\n",
      "-Errors from Validation Data-\n",
      "RMSE: 21.0051 M\n",
      "Mean Absolute Error: 14.084786 M\n"
     ]
    }
   ],
   "source": [
    "# print mean sq. err\n",
    "print(\"*KNN Model Statistics - GLYCINE*\")\n",
    "print('R Squared Score: %4f' % metrics.r2_score(y_train[0], y_calibrate))\n",
    "print('________________________________________________________________')\n",
    "print(\"-Errors from Calibration-\")\n",
    "print('RMSE: %.4f' % math.sqrt(mean_squared_error(y_train[0], y_calibrate, squared = True)) + ' M')\n",
    "print('Mean Absolute Error: %4f' % metrics.mean_absolute_error(y_train[0], y_calibrate) + ' M')\n",
    "print('________________________________________________________________')\n",
    "print(\"-Errors from Testing Data-\")\n",
    "print('RMSE: %.4f' % math.sqrt(mean_squared_error(y_test[0], y_pred_GLY, squared = True)) + ' M')\n",
    "print('Mean Absolute Error: %4f' % metrics.mean_absolute_error(y_test[0], y_pred_GLY) + ' M')\n",
    "print('________________________________________________________________')\n",
    "print(\"-Errors from Validation Data-\")\n",
    "print('RMSE: %.4f' % math.sqrt(mean_squared_error(y_validate[0], y_val, squared = True)) + ' M')\n",
    "print('Mean Absolute Error: %4f' % metrics.mean_absolute_error(y_validate[0], y_val) + ' M')"
   ]
  },
  {
   "cell_type": "markdown",
   "metadata": {},
   "source": [
    "###  Butyric Acid"
   ]
  },
  {
   "cell_type": "code",
   "execution_count": 7,
   "metadata": {},
   "outputs": [],
   "source": [
    "# initialize regressor & fit\n",
    "regressor = KNeighborsRegressor(n_neighbors = 5)\n",
    "regressor.fit(X_train,y_train[1])\n",
    "\n",
    "y_calibrate = regressor.predict(X_train) #Final Training Results\n",
    "y_pred_BUT = regressor.predict(X_test) # Final Testing Results\n",
    "y_val = regressor.predict(X_Validate)\n",
    "y_un_pred_BUT = regressor.predict(Field_Samples.T) # predict on new data"
   ]
  },
  {
   "cell_type": "code",
   "execution_count": 8,
   "metadata": {},
   "outputs": [
    {
     "name": "stdout",
     "output_type": "stream",
     "text": [
      "*KNN Model Statistics - BUTYRIC ACID*\n",
      "R Squared Score: 0.526173\n",
      "________________________________________________________________\n",
      "-Errors from Calibration-\n",
      "RMSE: 16.2758 M\n",
      "Mean Absolute Error: 12.057820 M\n",
      "________________________________________________________________\n",
      "-Errors from Testing Data-\n",
      "RMSE: 24.0609 M\n",
      "Mean Absolute Error: 18.471831 M\n",
      "________________________________________________________________\n",
      "-Errors from Validation Data-\n",
      "RMSE: 24.3141 M\n",
      "Mean Absolute Error: 18.651217 M\n"
     ]
    }
   ],
   "source": [
    "# print mean sq. err\n",
    "print(\"*KNN Model Statistics - BUTYRIC ACID*\")\n",
    "print('R Squared Score: %4f' % metrics.r2_score(y_train[1], y_calibrate))\n",
    "print('________________________________________________________________')\n",
    "print(\"-Errors from Calibration-\")\n",
    "print('RMSE: %.4f' % math.sqrt(mean_squared_error(y_train[1], y_calibrate, squared = True)) + ' M')\n",
    "print('Mean Absolute Error: %4f' % metrics.mean_absolute_error(y_train[1], y_calibrate) + ' M')\n",
    "print('________________________________________________________________')\n",
    "print(\"-Errors from Testing Data-\")\n",
    "print('RMSE: %.4f' % math.sqrt(mean_squared_error(y_test[1], y_pred_BUT, squared = True)) + ' M')\n",
    "print('Mean Absolute Error: %4f' % metrics.mean_absolute_error(y_test[1], y_pred_BUT) + ' M')\n",
    "print('________________________________________________________________')\n",
    "print(\"-Errors from Validation Data-\")\n",
    "print('RMSE: %.4f' % math.sqrt(mean_squared_error(y_validate[1], y_val, squared = True)) + ' M')\n",
    "print('Mean Absolute Error: %4f' % metrics.mean_absolute_error(y_validate[1], y_val) + ' M')"
   ]
  },
  {
   "cell_type": "markdown",
   "metadata": {},
   "source": [
    "### Glucose"
   ]
  },
  {
   "cell_type": "code",
   "execution_count": 9,
   "metadata": {},
   "outputs": [],
   "source": [
    "# initialize regressor & fit\n",
    "regressor = KNeighborsRegressor(n_neighbors = 5)\n",
    "regressor.fit(X_train,y_train[2])\n",
    "\n",
    "y_calibrate = regressor.predict(X_train) #Final Training Results\n",
    "y_pred_GLU = regressor.predict(X_test) # Final Testing Results\n",
    "y_val = regressor.predict(X_Validate)\n",
    "y_un_pred_GLU = regressor.predict(Field_Samples.T) # predict on new data"
   ]
  },
  {
   "cell_type": "code",
   "execution_count": 10,
   "metadata": {},
   "outputs": [
    {
     "name": "stdout",
     "output_type": "stream",
     "text": [
      "*KNN Model Statistics - GLUCOSE*\n",
      "R Squared Score: 0.303457\n",
      "________________________________________________________________\n",
      "-Errors from Calibration-\n",
      "RMSE: 21.3472 M\n",
      "Mean Absolute Error: 16.912857 M\n",
      "________________________________________________________________\n",
      "-Errors from Testing Data-\n",
      "RMSE: 30.9579 M\n",
      "Mean Absolute Error: 25.948358 M\n",
      "________________________________________________________________\n",
      "-Errors from Validation Data-\n",
      "RMSE: 33.9027 M\n",
      "Mean Absolute Error: 26.897120 M\n"
     ]
    }
   ],
   "source": [
    "# print mean sq. err\n",
    "print(\"*KNN Model Statistics - GLUCOSE*\")\n",
    "print('R Squared Score: %4f' % metrics.r2_score(y_train[2], y_calibrate))\n",
    "print('________________________________________________________________')\n",
    "print(\"-Errors from Calibration-\")\n",
    "print('RMSE: %.4f' % math.sqrt(mean_squared_error(y_train[2], y_calibrate, squared = True)) + ' M')\n",
    "print('Mean Absolute Error: %4f' % metrics.mean_absolute_error(y_train[2], y_calibrate) + ' M')\n",
    "print('________________________________________________________________')\n",
    "print(\"-Errors from Testing Data-\")\n",
    "print('RMSE: %.4f' % math.sqrt(mean_squared_error(y_test[2], y_pred_GLU, squared = True)) + ' M')\n",
    "print('Mean Absolute Error: %4f' % metrics.mean_absolute_error(y_test[2], y_pred_GLU) + ' M')\n",
    "print('________________________________________________________________')\n",
    "print(\"-Errors from Validation Data-\")\n",
    "print('RMSE: %.4f' % math.sqrt(mean_squared_error(y_validate[2], y_val, squared = True)) + ' M')\n",
    "print('Mean Absolute Error: %4f' % metrics.mean_absolute_error(y_validate[2], y_val) + ' M')"
   ]
  },
  {
   "cell_type": "markdown",
   "metadata": {},
   "source": [
    "### Evaluate Test Data Fit"
   ]
  },
  {
   "cell_type": "code",
   "execution_count": 11,
   "metadata": {},
   "outputs": [
    {
     "data": {
      "text/plain": [
       "Text(0, 0.5, 'Predicted - True Concentration (mM)')"
      ]
     },
     "execution_count": 11,
     "metadata": {},
     "output_type": "execute_result"
    },
    {
     "data": {
      "image/png": "[encoded data removed]",
      "text/plain": [
       "<Figure size 640x480 with 1 Axes>"
      ]
     },
     "metadata": {},
     "output_type": "display_data"
    }
   ],
   "source": [
    "plt.scatter(y_test[0], y_pred_GLY - y_test[0], marker = 'o', facecolors='none', color = 'dodgerblue', label = \"Glycine\")\n",
    "plt.scatter(y_test[1], y_pred_BUT - y_test[1], marker = 's', color = 'dodgerblue', label = \"Butyric Acid\")\n",
    "plt.scatter(y_test[2], y_pred_GLU - y_test[2], marker = '*', color = 'dodgerblue', label = \"Glucose\")\n",
    "plt.ylim(-50,50)\n",
    "plt.axhline(0, color = 'grey', linewidth = 0.5)\n",
    "plt.axhline(10, color = 'k', linewidth = 0.6, linestyle = ':')\n",
    "plt.axhline(-10, color = 'k', linewidth = 0.6, linestyle = ':')\n",
    "plt.ylabel('Predicted - True Concentration (mM)')\n",
    "\n",
    "\n",
    "#plt.title(\"Test Data on Lab Sample Model\")"
   ]
  },
  {
   "cell_type": "markdown",
   "metadata": {},
   "source": [
    "### Test on Field Samples"
   ]
  },
  {
   "cell_type": "code",
   "execution_count": 12,
   "metadata": {},
   "outputs": [
    {
     "data": {
      "text/plain": [
       "Text(0, 0.5, 'Predicted - True Concentration (mM)')"
      ]
     },
     "execution_count": 12,
     "metadata": {},
     "output_type": "execute_result"
    },
    {
     "data": {
      "image/png": "[encoded data removed]",
      "text/plain": [
       "<Figure size 640x480 with 1 Axes>"
      ]
     },
     "metadata": {},
     "output_type": "display_data"
    }
   ],
   "source": [
    "plt.scatter(Field_Concs[0], y_un_pred_GLY - Field_Concs[0], marker = 'o', facecolors='none', color = 'dodgerblue', label = \"Glycine\")\n",
    "plt.scatter(Field_Concs[1], y_un_pred_BUT - Field_Concs[1], marker = 's', color = 'dodgerblue', label = \"Butyric Acid\")\n",
    "plt.scatter(Field_Concs[2], y_un_pred_GLU - Field_Concs[2], marker = '*', color = 'dodgerblue', label = \"Glucose\")\n",
    "plt.ylim(-50,50)\n",
    "plt.axhline(0, color = 'grey', linewidth = 0.5)\n",
    "plt.axhline(10, color = 'k', linewidth = 0.6, linestyle = ':')\n",
    "plt.axhline(-10, color = 'k', linewidth = 0.6, linestyle = ':')\n",
    "plt.ylabel('Predicted - True Concentration (mM)')\n",
    "\n",
    "\n",
    "#plt.title(\"Field Samples Tested on Lab Sample Model\")"
   ]
  },
  {
   "cell_type": "markdown",
   "metadata": {},
   "source": [
    "### Export Results"
   ]
  },
  {
   "cell_type": "code",
   "execution_count": 13,
   "metadata": {},
   "outputs": [],
   "source": [
    "Model_Results = pd.DataFrame()\n",
    "#Glycine (GLY)\n",
    "Model_Results['Glycine_True'] = Field_Concs[0]\n",
    "Model_Results['Glycine'] = y_un_pred_GLY\n",
    "GLY_Diff = np.array(y_un_pred_GLY - Field_Concs[0])\n",
    "Model_Results['Glycine_Diff'] = GLY_Diff\n",
    "#Butyric Acid (BUT)\n",
    "Model_Results['Butyric_Acid_True'] = Field_Concs[1]\n",
    "Model_Results['Butyric_Acid'] = y_un_pred_BUT\n",
    "BUT_Diff = np.array(y_un_pred_BUT - Field_Concs[1])\n",
    "Model_Results['Butyric_Acid_Diff'] = BUT_Diff\n",
    "#Glucose (GLU)\n",
    "Model_Results['Glucose_True'] = Field_Concs[2]\n",
    "Model_Results['Glucose'] = y_un_pred_GLU\n",
    "GLU_Diff = np.array(y_un_pred_GLU - Field_Concs[2])\n",
    "Model_Results['Glucose_Diff'] = GLU_Diff\n",
    "\n",
    "Model_Results.to_csv(path + '\\\\'+'Model_Results'+'\\\\'+'N_Field_Sample_KNN.csv', index = False, encoding='utf-8') # False: not include index"
   ]
  },
  {
   "cell_type": "code",
   "execution_count": 14,
   "metadata": {},
   "outputs": [
    {
     "name": "stdout",
     "output_type": "stream",
     "text": [
      "Glycine:  0\n",
      "Butyric Acid :  6\n",
      "Glucose :  2\n"
     ]
    }
   ],
   "source": [
    "#Glycine (GLY)\n",
    "GLY_20 = (max(Model_Results['Glycine_True'])/10)*2\n",
    "GLY_20_count = 0\n",
    "for i in Model_Results['Glycine_Diff']:\n",
    "    if ((i <= GLY_20) and (i >= -GLY_20)):\n",
    "        GLY_20_count = GLY_20_count +1\n",
    "print(\"Glycine:  \" + str(GLY_20_count))\n",
    "\n",
    "#Butyric Acid (BUT)\n",
    "BUT_20 = (max(Model_Results['Butyric_Acid_True'])/10)*2\n",
    "BUT_20_count = 0\n",
    "for i in Model_Results['Butyric_Acid_Diff']:    \n",
    "    if ((i <= BUT_20) and (i >= -BUT_20)):\n",
    "        BUT_20_count = BUT_20_count +1\n",
    "print(\"Butyric Acid :  \" + str(BUT_20_count))\n",
    "\n",
    "#Glucose (GLU)\n",
    "GLU_20 = (max(Model_Results['Glucose_True'])/10)*2\n",
    "GLU_20_count = 0\n",
    "for i in Model_Results['Glucose_Diff']:\n",
    "    if ((i <= GLU_20) and (i >= -GLU_20)):\n",
    "        GLU_20_count = GLU_20_count +1\n",
    "print(\"Glucose :  \" + str(GLU_20_count))"
   ]
  },
  {
   "cell_type": "markdown",
   "metadata": {},
   "source": [
    "## Field Spiked Sample Model"
   ]
  },
  {
   "cell_type": "code",
   "execution_count": 15,
   "metadata": {},
   "outputs": [],
   "source": [
    "# train test data split\n",
    "X_train, X_test, y_train, y_test = train_test_split(F_Dataset.T, F_Concs.T, test_size=0.3, random_state=42)\n",
    "X_Validate, X_test, y_validate, y_test = train_test_split(X_test, y_test, test_size=0.5, random_state=42)"
   ]
  },
  {
   "cell_type": "markdown",
   "metadata": {},
   "source": [
    "### Glycine"
   ]
  },
  {
   "cell_type": "code",
   "execution_count": 16,
   "metadata": {},
   "outputs": [],
   "source": [
    "# initialize regressor & fit\n",
    "regressor = KNeighborsRegressor(n_neighbors = 5)\n",
    "regressor.fit(X_train,y_train[0])\n",
    "\n",
    "y_calibrate = regressor.predict(X_train) #Final Training Results\n",
    "y_pred_GLY = regressor.predict(X_test) # Final Testing Results\n",
    "y_val = regressor.predict(X_Validate)\n",
    "y_un_pred_GLY = regressor.predict(Field_Samples.T) # predict on new data"
   ]
  },
  {
   "cell_type": "code",
   "execution_count": 17,
   "metadata": {},
   "outputs": [
    {
     "name": "stdout",
     "output_type": "stream",
     "text": [
      "*KNN Model Statistics - GLYCINE*\n",
      "R Squared Score: 0.163537\n",
      "________________________________________________________________\n",
      "-Errors from Calibration-\n",
      "RMSE: 18.6064 M\n",
      "Mean Absolute Error: 12.848465 M\n",
      "________________________________________________________________\n",
      "-Errors from Testing Data-\n",
      "RMSE: 17.9109 M\n",
      "Mean Absolute Error: 14.312395 M\n",
      "________________________________________________________________\n",
      "-Errors from Validation Data-\n",
      "RMSE: 17.3427 M\n",
      "Mean Absolute Error: 10.976198 M\n"
     ]
    }
   ],
   "source": [
    "# print mean sq. err\n",
    "print(\"*KNN Model Statistics - GLYCINE*\")\n",
    "print('R Squared Score: %4f' % metrics.r2_score(y_train[0], y_calibrate))\n",
    "print('________________________________________________________________')\n",
    "print(\"-Errors from Calibration-\")\n",
    "print('RMSE: %.4f' % math.sqrt(mean_squared_error(y_train[0], y_calibrate, squared = True)) + ' M')\n",
    "print('Mean Absolute Error: %4f' % metrics.mean_absolute_error(y_train[0], y_calibrate) + ' M')\n",
    "print('________________________________________________________________')\n",
    "print(\"-Errors from Testing Data-\")\n",
    "print('RMSE: %.4f' % math.sqrt(mean_squared_error(y_test[0], y_pred_GLY, squared = True)) + ' M')\n",
    "print('Mean Absolute Error: %4f' % metrics.mean_absolute_error(y_test[0], y_pred_GLY) + ' M')\n",
    "print('________________________________________________________________')\n",
    "print(\"-Errors from Validation Data-\")\n",
    "print('RMSE: %.4f' % math.sqrt(mean_squared_error(y_validate[0], y_val, squared = True)) + ' M')\n",
    "print('Mean Absolute Error: %4f' % metrics.mean_absolute_error(y_validate[0], y_val) + ' M')"
   ]
  },
  {
   "cell_type": "markdown",
   "metadata": {},
   "source": [
    "###  Butyric Acid"
   ]
  },
  {
   "cell_type": "code",
   "execution_count": 18,
   "metadata": {},
   "outputs": [],
   "source": [
    "# initialize regressor & fit\n",
    "regressor = KNeighborsRegressor(n_neighbors = 5)\n",
    "regressor.fit(X_train,y_train[1])\n",
    "\n",
    "y_calibrate = regressor.predict(X_train) #Final Training Results\n",
    "y_pred_BUT = regressor.predict(X_test) # Final Testing Results\n",
    "y_val = regressor.predict(X_Validate)\n",
    "y_un_pred_BUT = regressor.predict(Field_Samples.T) # predict on new data"
   ]
  },
  {
   "cell_type": "code",
   "execution_count": 19,
   "metadata": {},
   "outputs": [
    {
     "name": "stdout",
     "output_type": "stream",
     "text": [
      "*KNN Model Statistics - BUTYRIC ACID*\n",
      "R Squared Score: 0.325584\n",
      "________________________________________________________________\n",
      "-Errors from Calibration-\n",
      "RMSE: 19.7704 M\n",
      "Mean Absolute Error: 14.351698 M\n",
      "________________________________________________________________\n",
      "-Errors from Testing Data-\n",
      "RMSE: 25.8319 M\n",
      "Mean Absolute Error: 21.054514 M\n",
      "________________________________________________________________\n",
      "-Errors from Validation Data-\n",
      "RMSE: 22.4768 M\n",
      "Mean Absolute Error: 17.617093 M\n"
     ]
    }
   ],
   "source": [
    "# print mean sq. err\n",
    "print(\"*KNN Model Statistics - BUTYRIC ACID*\")\n",
    "print('R Squared Score: %4f' % metrics.r2_score(y_train[1], y_calibrate))\n",
    "print('________________________________________________________________')\n",
    "print(\"-Errors from Calibration-\")\n",
    "print('RMSE: %.4f' % math.sqrt(mean_squared_error(y_train[1], y_calibrate, squared = True)) + ' M')\n",
    "print('Mean Absolute Error: %4f' % metrics.mean_absolute_error(y_train[1], y_calibrate) + ' M')\n",
    "print('________________________________________________________________')\n",
    "print(\"-Errors from Testing Data-\")\n",
    "print('RMSE: %.4f' % math.sqrt(mean_squared_error(y_test[1], y_pred_BUT, squared = True)) + ' M')\n",
    "print('Mean Absolute Error: %4f' % metrics.mean_absolute_error(y_test[1], y_pred_BUT) + ' M')\n",
    "print('________________________________________________________________')\n",
    "print(\"-Errors from Validation Data-\")\n",
    "print('RMSE: %.4f' % math.sqrt(mean_squared_error(y_validate[1], y_val, squared = True)) + ' M')\n",
    "print('Mean Absolute Error: %4f' % metrics.mean_absolute_error(y_validate[1], y_val) + ' M')"
   ]
  },
  {
   "cell_type": "markdown",
   "metadata": {},
   "source": [
    "### Glucose"
   ]
  },
  {
   "cell_type": "code",
   "execution_count": 20,
   "metadata": {},
   "outputs": [],
   "source": [
    "# initialize regressor & fit\n",
    "regressor = KNeighborsRegressor(n_neighbors = 5)\n",
    "regressor.fit(X_train,y_train[2])\n",
    "\n",
    "y_calibrate = regressor.predict(X_train) #Final Training Results\n",
    "y_pred_GLU = regressor.predict(X_test) # Final Testing Results\n",
    "y_val = regressor.predict(X_Validate)\n",
    "y_un_pred_GLU = regressor.predict(Field_Samples.T) # predict on new data"
   ]
  },
  {
   "cell_type": "code",
   "execution_count": 21,
   "metadata": {},
   "outputs": [
    {
     "name": "stdout",
     "output_type": "stream",
     "text": [
      "*KNN Model Statistics - GLUCOSE*\n",
      "R Squared Score: 0.278120\n",
      "________________________________________________________________\n",
      "-Errors from Calibration-\n",
      "RMSE: 24.7391 M\n",
      "Mean Absolute Error: 18.498681 M\n",
      "________________________________________________________________\n",
      "-Errors from Testing Data-\n",
      "RMSE: 31.5278 M\n",
      "Mean Absolute Error: 24.038865 M\n",
      "________________________________________________________________\n",
      "-Errors from Validation Data-\n",
      "RMSE: 26.1317 M\n",
      "Mean Absolute Error: 20.692680 M\n"
     ]
    }
   ],
   "source": [
    "# print mean sq. err\n",
    "print(\"*KNN Model Statistics - GLUCOSE*\")\n",
    "print('R Squared Score: %4f' % metrics.r2_score(y_train[2], y_calibrate))\n",
    "print('________________________________________________________________')\n",
    "print(\"-Errors from Calibration-\")\n",
    "print('RMSE: %.4f' % math.sqrt(mean_squared_error(y_train[2], y_calibrate, squared = True)) + ' M')\n",
    "print('Mean Absolute Error: %4f' % metrics.mean_absolute_error(y_train[2], y_calibrate) + ' M')\n",
    "print('________________________________________________________________')\n",
    "print(\"-Errors from Testing Data-\")\n",
    "print('RMSE: %.4f' % math.sqrt(mean_squared_error(y_test[2], y_pred_GLU, squared = True)) + ' M')\n",
    "print('Mean Absolute Error: %4f' % metrics.mean_absolute_error(y_test[2], y_pred_GLU) + ' M')\n",
    "print('________________________________________________________________')\n",
    "print(\"-Errors from Validation Data-\")\n",
    "print('RMSE: %.4f' % math.sqrt(mean_squared_error(y_validate[2], y_val, squared = True)) + ' M')\n",
    "print('Mean Absolute Error: %4f' % metrics.mean_absolute_error(y_validate[2], y_val) + ' M')"
   ]
  },
  {
   "cell_type": "markdown",
   "metadata": {},
   "source": [
    "### Evaluate TestData  Fit"
   ]
  },
  {
   "cell_type": "code",
   "execution_count": 22,
   "metadata": {},
   "outputs": [
    {
     "data": {
      "text/plain": [
       "Text(0, 0.5, 'Predicted - True Concentration (mM)')"
      ]
     },
     "execution_count": 22,
     "metadata": {},
     "output_type": "execute_result"
    },
    {
     "data": {
      "image/png": "[encoded data removed]",
      "text/plain": [
       "<Figure size 640x480 with 1 Axes>"
      ]
     },
     "metadata": {},
     "output_type": "display_data"
    }
   ],
   "source": [
    "plt.scatter(y_test[0], y_pred_GLY - y_test[0], marker = 'o', facecolors='none', color = 'dodgerblue', label = \"Glycine\")\n",
    "plt.scatter(y_test[1], y_pred_BUT - y_test[1], marker = 's', color = 'dodgerblue', label = \"Butyric Acid\")\n",
    "plt.scatter(y_test[2], y_pred_GLU - y_test[2], marker = '*', color = 'dodgerblue', label = \"Glucose\")\n",
    "plt.ylim(-50,50)\n",
    "plt.axhline(0, color = 'grey', linewidth = 0.5)\n",
    "plt.axhline(10, color = 'k', linewidth = 0.6, linestyle = ':')\n",
    "plt.axhline(-10, color = 'k', linewidth = 0.6, linestyle = ':')\n",
    "plt.ylabel('Predicted - True Concentration (mM)')\n",
    "\n",
    "\n",
    "#plt.title(\"Test Data on Field Sample Model\")"
   ]
  },
  {
   "cell_type": "markdown",
   "metadata": {},
   "source": [
    "### Test on Field Samples"
   ]
  },
  {
   "cell_type": "code",
   "execution_count": 23,
   "metadata": {},
   "outputs": [
    {
     "data": {
      "text/plain": [
       "Text(0, 0.5, 'Predicted - True Concentration (mM)')"
      ]
     },
     "execution_count": 23,
     "metadata": {},
     "output_type": "execute_result"
    },
    {
     "data": {
      "image/png": "[encoded data removed]",
      "text/plain": [
       "<Figure size 640x480 with 1 Axes>"
      ]
     },
     "metadata": {},
     "output_type": "display_data"
    }
   ],
   "source": [
    "plt.scatter(Field_Concs[0], y_un_pred_GLY - Field_Concs[0], marker = 'o', facecolors='none', color = 'dodgerblue', label = \"Glycine\")\n",
    "plt.scatter(Field_Concs[1], y_un_pred_BUT - Field_Concs[1], marker = 's', color = 'dodgerblue', label = \"Butyric Acid\")\n",
    "plt.scatter(Field_Concs[2], y_un_pred_GLU - Field_Concs[2], marker = '*', color = 'dodgerblue', label = \"Glucose\")\n",
    "plt.ylim(-50,50)\n",
    "plt.axhline(0, color = 'grey', linewidth = 0.5)\n",
    "plt.axhline(10, color = 'k', linewidth = 0.6, linestyle = ':')\n",
    "plt.axhline(-10, color = 'k', linewidth = 0.6, linestyle = ':')\n",
    "plt.ylabel('Predicted - True Concentration (mM)')\n",
    "\n",
    "\n",
    "#plt.title(\"Field Samples Tested on Field Sample Model\")"
   ]
  },
  {
   "cell_type": "markdown",
   "metadata": {},
   "source": [
    "### Export Results"
   ]
  },
  {
   "cell_type": "code",
   "execution_count": 24,
   "metadata": {},
   "outputs": [],
   "source": [
    "Model_Results = pd.DataFrame()\n",
    "#Glycine (GLY)\n",
    "Model_Results['Glycine_True'] = Field_Concs[0]\n",
    "Model_Results['Glycine'] = y_un_pred_GLY\n",
    "GLY_Diff = np.array(y_un_pred_GLY - Field_Concs[0])\n",
    "Model_Results['Glycine_Diff'] = GLY_Diff\n",
    "#Butyric Acid (BUT)\n",
    "Model_Results['Butyric_Acid_True'] = Field_Concs[1]\n",
    "Model_Results['Butyric_Acid'] = y_un_pred_BUT\n",
    "BUT_Diff = np.array(y_un_pred_BUT - Field_Concs[1])\n",
    "Model_Results['Butyric_Acid_Diff'] = BUT_Diff\n",
    "#Glucose (GLU)\n",
    "Model_Results['Glucose_True'] = Field_Concs[2]\n",
    "Model_Results['Glucose'] = y_un_pred_GLU\n",
    "GLU_Diff = np.array(y_un_pred_GLU - Field_Concs[2])\n",
    "Model_Results['Glucose_Diff'] = GLU_Diff\n",
    "\n",
    "Model_Results.to_csv(path + '\\\\'+'Model_Results'+'\\\\'+'F_Field_Sample_KNN.csv', index = False, encoding='utf-8') # False: not include index"
   ]
  },
  {
   "cell_type": "code",
   "execution_count": 25,
   "metadata": {},
   "outputs": [
    {
     "name": "stdout",
     "output_type": "stream",
     "text": [
      "Glycine:  0\n",
      "Butyric Acid :  8\n",
      "Glucose :  4\n"
     ]
    }
   ],
   "source": [
    "#Glycine (GLY)\n",
    "GLY_20 = (max(Model_Results['Glycine_True'])/10)*2\n",
    "GLY_20_count = 0\n",
    "for i in Model_Results['Glycine_Diff']:\n",
    "    if ((i <= GLY_20) and (i >= -GLY_20)):\n",
    "        GLY_20_count = GLY_20_count +1\n",
    "print(\"Glycine:  \" + str(GLY_20_count))\n",
    "\n",
    "#Butyric Acid (BUT)\n",
    "BUT_20 = (max(Model_Results['Butyric_Acid_True'])/10)*2\n",
    "BUT_20_count = 0\n",
    "for i in Model_Results['Butyric_Acid_Diff']:    \n",
    "    if ((i <= BUT_20) and (i >= -BUT_20)):\n",
    "        BUT_20_count = BUT_20_count +1\n",
    "print(\"Butyric Acid :  \" + str(BUT_20_count))\n",
    "\n",
    "#Glucose (GLU)\n",
    "GLU_20 = (max(Model_Results['Glucose_True'])/10)*2\n",
    "GLU_20_count = 0\n",
    "for i in Model_Results['Glucose_Diff']:\n",
    "    if ((i <= GLU_20) and (i >= -GLU_20)):\n",
    "        GLU_20_count = GLU_20_count +1\n",
    "print(\"Glucose :  \" + str(GLU_20_count))"
   ]
  }
 ],
 "metadata": {
  "kernelspec": {
   "display_name": "Python 3",
   "language": "python",
   "name": "python3"
  },
  "language_info": {
   "codemirror_mode": {
    "name": "ipython",
    "version": 3
   },
   "file_extension": ".py",
   "mimetype": "text/x-python",
   "name": "python",
   "nbconvert_exporter": "python",
   "pygments_lexer": "ipython3",
   "version": "3.8.5"
  }
 },
 "nbformat": 4,
 "nbformat_minor": 5
}
