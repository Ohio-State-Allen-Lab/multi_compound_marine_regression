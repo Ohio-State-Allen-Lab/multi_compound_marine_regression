{
 "cells": [
  {
   "cell_type": "code",
   "execution_count": 72,
   "metadata": {},
   "outputs": [],
   "source": [
    "#Data Processing and Management\n",
    "import os\n",
    "import glob\n",
    "import csv\n",
    "import pandas as pd\n",
    "import numpy as np\n",
    "import math\n",
    "from scipy import stats\n",
    "\n",
    "from sklearn.model_selection import train_test_split\n",
    "\n",
    "import scikit_posthocs as sp"
   ]
  },
  {
   "cell_type": "markdown",
   "metadata": {},
   "source": [
    "## Lab Glycine"
   ]
  },
  {
   "cell_type": "code",
   "execution_count": 73,
   "metadata": {},
   "outputs": [],
   "source": [
    "#Spiked Lab Models\n",
    "L_DT = [0, 0, 0, 0, 0, 0, 0, 0, 0, 0]\n",
    "L_GBR = [21.80262876, 18.10730877, -7.208171612, 7.919699187, -3.624480438, 10.54286308, 2.282581927, 11.47554828, 13.8079117, 42.02622323]\n",
    "L_HGB = [31.64609525, 24.29823448, 26.77663171, 13.66413985, 6.981572254, 24.87583306, 18.21041972, 24.68991573, 25.0001036, 34.11411154]\n",
    "L_KNN = [30.01838284, 0, 0, 30.01838284, 35.57734263, 0, 45.58347024, 0, 0, 45.58347024]\n",
    "L_MLP = [29.6089973, 29.32330918, 29.6791804, 29.49878498, 29.45821809, 28.0108694, 29.55124417, 29.67431529, 29.38765731, 29.52792926]\n",
    "L_MLR = [51.52967781, 18.10199698, 18.84109258, 50.51135458, 47.79605621, 3.256270247, 45.7313506, 19.67917937, 29.50711223, 55.2897401]\n",
    "L_RF = [1.715336162, 1.858280843, 2.144170203, 1.143557442, 0, 2.573004244, 1.572391482, 2.144170203, 1.858280843, 1.572391482]\n",
    "L_SVR = [33.93467741, 33.90988211, 33.90895884, 33.93415957, 33.93234039, 33.90263405, 33.92985753, 33.91249251, 33.91736085, 33.93802379]"
   ]
  },
  {
   "cell_type": "code",
   "execution_count": 74,
   "metadata": {
    "scrolled": true
   },
   "outputs": [
    {
     "data": {
      "text/plain": [
       "FriedmanchisquareResult(statistic=42.931654676258994, pvalue=3.438532742211486e-07)"
      ]
     },
     "execution_count": 74,
     "metadata": {},
     "output_type": "execute_result"
    }
   ],
   "source": [
    "stats.friedmanchisquare(L_DT, L_GBR, L_HGB, L_KNN, L_MLP, L_MLR, L_RF, L_SVR)"
   ]
  },
  {
   "cell_type": "code",
   "execution_count": 75,
   "metadata": {},
   "outputs": [],
   "source": [
    "data = pd.DataFrame([L_DT, L_GBR, L_HGB, L_KNN, L_MLP, L_MLR, L_RF, L_SVR])"
   ]
  },
  {
   "cell_type": "code",
   "execution_count": 76,
   "metadata": {},
   "outputs": [],
   "source": [
    "output = sp.posthoc_nemenyi_friedman(data.T)\n",
    "output.to_csv(r'PATH\\L_F_Output.csv')"
   ]
  },
  {
   "cell_type": "markdown",
   "metadata": {},
   "source": [
    "## Lab Butyric Acid"
   ]
  },
  {
   "cell_type": "code",
   "execution_count": 77,
   "metadata": {},
   "outputs": [],
   "source": [
    "#Spiked Lab Models\n",
    "L_DT = [18.68423399, 23.77993417, 18.68423399, 23.77993417, 23.77993417, 18.68423399, 23.77993417, 23.77993417, 18.68423399, 18.68423399]\n",
    "L_GBR = [-2.682712252, -10.97100382, 11.7664417, -15.40756665, -29.81872928, 20.22997528, -17.42996634, 3.99140222, -4.311230042, -0.79643566]\n",
    "L_HGB = [17.58169718, 13.35870169, 19.24565809, 11.21376243, 12.33692053, 42.09530961, 9.845468772, 15.99742821, 13.0134147, 7.94280521]\n",
    "L_KNN = [33.09718476, 13.0789638, 13.0789638, 33.09718476, 25.62349117, 25.15185345, 23.19959054, 22.97655802, 9.897594224, 29.82744382]\n",
    "L_MLP = [32.41231395, 32.21793655, 32.60313843, 32.28471061, 32.20634178, 31.01979185, 32.35652401, 32.64808371, 32.23576158, 32.32405046]\n",
    "L_MLR = [29.09957243, 20.60371076, 23.75970895, 27.97742232, 25.51708778, 20.05198527, 27.64628247, 22.58435764, 23.70850468, 29.46072422]\n",
    "L_RF = [2.886272295, 15.38264492, 23.95751537, 18.65238586, 18.35513669, 26.29321751, 18.50376127, 19.77967289, 19.41528124, 4.638515388]\n",
    "L_SVR = [31.52046246, 31.51644039, 31.51759904, 31.51990753, 31.51857709, 31.51872371, 31.51941776, 31.51866396, 31.5173749, 31.52091484]"
   ]
  },
  {
   "cell_type": "code",
   "execution_count": 78,
   "metadata": {},
   "outputs": [
    {
     "data": {
      "text/plain": [
       "FriedmanchisquareResult(statistic=47.633333333333326, pvalue=4.1992624747656623e-08)"
      ]
     },
     "execution_count": 78,
     "metadata": {},
     "output_type": "execute_result"
    }
   ],
   "source": [
    "stats.friedmanchisquare(L_DT, L_GBR, L_HGB, L_KNN, L_MLP, L_MLR, L_RF, L_SVR)"
   ]
  },
  {
   "cell_type": "code",
   "execution_count": 79,
   "metadata": {},
   "outputs": [],
   "source": [
    "data = pd.DataFrame([L_DT, L_GBR, L_HGB, L_KNN, L_MLP, L_MLR, L_RF, L_SVR])"
   ]
  },
  {
   "cell_type": "code",
   "execution_count": 81,
   "metadata": {},
   "outputs": [],
   "source": [
    "output = sp.posthoc_nemenyi_friedman(data.T)\n",
    "output.to_csv(r'PATH\\L_F_Output_BUT.csv')"
   ]
  },
  {
   "cell_type": "markdown",
   "metadata": {},
   "source": [
    "## Lab Glucose"
   ]
  },
  {
   "cell_type": "code",
   "execution_count": 82,
   "metadata": {},
   "outputs": [],
   "source": [
    "#Spiked Lab Models\n",
    "L_DT = [0, 23.235197, 0, 56.86004649, 82.54118188, 0, 56.86004649, 23.235197, 23.235197, 29.20116641]\n",
    "L_GBR = [21.8708754, 38.3523856, 28.18697959, 15.74600303, 5.62550142, 23.42727592, 19.0499656, 28.66698989, 37.09330209, 23.3502881]\n",
    "L_HGB = [18.8244526, 24.03842205, 31.82110056, 7.386207274, 6.390663515, 27.95095393, 12.45290244, 36.06390767, 39.02616833, 21.72118963]\n",
    "L_KNN = [33.17674689, 43.11374354, 43.11374354, 33.17674689, 23.0794761, 33.01647275, 33.17674689, 33.01647275, 33.01647275, 33.17674689]\n",
    "L_MLP = [29.89802618, 29.70267329, 30.04681081, 29.78559776, 29.72674084, 28.56549256, 29.84504174, 30.08863786, 29.72247376, 29.81808357]\n",
    "L_MLR = [28.3524053, 23.13979353, 24.25999664, 27.8565574, 26.81127871, 20.31876408, 27.68083731, 22.80100662, 25.50037839, 28.6143775]\n",
    "L_RF = [16.4294555, 61.42506399, 61.42506399, 0, 0, 62.54698296, 0, 63.10794245, 62.26650322, 25.49772614]\n",
    "L_SVR = [28.19585524, 28.18911381, 28.19032596, 28.19533093, 28.19423991, 28.1857417, 28.19491507, 28.18899998, 28.19187006, 28.19622287]"
   ]
  },
  {
   "cell_type": "code",
   "execution_count": 83,
   "metadata": {},
   "outputs": [
    {
     "data": {
      "text/plain": [
       "FriedmanchisquareResult(statistic=16.133333333333326, pvalue=0.023925736549773768)"
      ]
     },
     "execution_count": 83,
     "metadata": {},
     "output_type": "execute_result"
    }
   ],
   "source": [
    "stats.friedmanchisquare(L_DT, L_GBR, L_HGB, L_KNN, L_MLP, L_MLR, L_RF, L_SVR)"
   ]
  },
  {
   "cell_type": "code",
   "execution_count": 84,
   "metadata": {},
   "outputs": [],
   "source": [
    "data = pd.DataFrame([L_DT, L_GBR, L_HGB, L_KNN, L_MLP, L_MLR, L_RF, L_SVR])"
   ]
  },
  {
   "cell_type": "code",
   "execution_count": 85,
   "metadata": {},
   "outputs": [],
   "source": [
    "output = sp.posthoc_nemenyi_friedman(data.T)\n",
    "output.to_csv(r'PATH\\L_F_Output_GLU.csv')"
   ]
  },
  {
   "cell_type": "markdown",
   "metadata": {},
   "source": [
    "## Marine Glycine"
   ]
  },
  {
   "cell_type": "code",
   "execution_count": 86,
   "metadata": {},
   "outputs": [],
   "source": [
    "#Spiked Marine Models\n",
    "L_DT = [52.74029013, 52.74029013, 5.112494859, 52.74029013, 2.966499025, 52.76933036, 52.74029013, 52.74029013, 5.14029127, 5.359016913]\n",
    "L_GBR = [67.52508442, 38.33837561, 8.953923063, 44.9749675, 49.43289632, 46.88957634, 24.04907101, 43.84741108, 5.077079951, 100.1363757]\n",
    "L_HGB = [21.25567091, 32.44849426, 6.580018001, 19.83438604, 17.47505742, 39.60540466, 19.2743535, 34.5648852, 13.42137911, 39.67317167]\n",
    "L_KNN = [34.44000889, 23.25110684, 14.26171262, 34.24152678, 13.0282078, 15.9849067, 34.18114996, 25.39681209, 13.50944532, 34.44000889]\n",
    "L_MLP = [15.5363743, 17.58670605, 16.81698478, 15.70398063, 15.92580764, 20.60537679, 15.61495359, 18.1657227, 16.41150907, 15.57520931]\n",
    "L_MLR = [18.87021912, 15.29367105, 10.11561409, 19.74723817, 19.63916873, 26.32490968, 16.07128198, 22.59553871, 12.60097675, 22.22078281]\n",
    "L_RF = [11.28395749, 52.76858344, 4.700068146, 55.1592215, 4.703422048, 49.12015648, 31.38256296, 52.87221785, 5.141736482, 65.3414532]\n",
    "L_SVR = [4.65420685, 4.789842888, 4.729329433, 4.666628298, 4.683173409, 4.97828989, 4.655607084, 4.843363394, 4.70662638, 4.66344576]"
   ]
  },
  {
   "cell_type": "code",
   "execution_count": 87,
   "metadata": {},
   "outputs": [
    {
     "data": {
      "text/plain": [
       "FriedmanchisquareResult(statistic=26.19999999999999, pvalue=0.00046385578418120277)"
      ]
     },
     "execution_count": 87,
     "metadata": {},
     "output_type": "execute_result"
    }
   ],
   "source": [
    "stats.friedmanchisquare(L_DT, L_GBR, L_HGB, L_KNN, L_MLP, L_MLR, L_RF, L_SVR)"
   ]
  },
  {
   "cell_type": "code",
   "execution_count": 88,
   "metadata": {},
   "outputs": [],
   "source": [
    "data = pd.DataFrame([L_DT, L_GBR, L_HGB, L_KNN, L_MLP, L_MLR, L_RF, L_SVR])"
   ]
  },
  {
   "cell_type": "code",
   "execution_count": 89,
   "metadata": {},
   "outputs": [],
   "source": [
    "output = sp.posthoc_nemenyi_friedman(data.T)\n",
    "output.to_csv(r'PATH\\M_F_Output_GLY.csv')"
   ]
  },
  {
   "cell_type": "markdown",
   "metadata": {},
   "source": [
    "## Marine Butyric Acid"
   ]
  },
  {
   "cell_type": "code",
   "execution_count": 90,
   "metadata": {},
   "outputs": [],
   "source": [
    "#Spiked Marine Models\n",
    "L_DT = [6.0911, 20.007099, 24.3719, 35.66690999, 35.66690999, 49.70616322, 43.70694326, 35.66690999, 43.70694326, 66.54120198]\n",
    "L_GBR = [29.90154742, 25.82634624, 20.98726944, 51.83738858, 19.36469974, 32.15496775, 20.32036641, 56.4898874, 12.57141833, 31.25068299]\n",
    "L_HGB = [29.0723011, 42.73760435, 16.01284924, 43.91776336, 38.63882187, 48.23283183, 27.50772036, 41.58029738, 26.78942136, 26.04766136]\n",
    "L_KNN = [29.00401386, 29.86160854, 21.62275872, 28.1013509, 26.17021817, 41.07523163, 27.3033509, 31.13703774, 18.62306442, 29.00401386]\n",
    "L_MLP = [3.824607888, 12.34789131, 6.842289677, 9.176066464, -16.50815895, 14.06233887, 7.500907496, 13.96667332, 7.499592105, 8.775887112]\n",
    "L_MLR = [19.4008302, 30.80256143, 27.32120369, 20.4905748, 22.95978281, 37.79267851, 19.82201176, 36.23195282, 24.06756473, 19.8386473]\n",
    "L_RF = [14.9769397, 15.65664592, 22.63690646, 40.01339675, 38.63117881, 78.0253297, 15.94990272, 64.67312701, 19.80501008, 19.10199323]\n",
    "L_SVR = [20.12960583, 20.482643, 20.34672209, 20.15843056, 20.20085308, 20.91497078, 20.14253153, 20.59309451, 20.28292018, 20.14322191]"
   ]
  },
  {
   "cell_type": "code",
   "execution_count": 91,
   "metadata": {},
   "outputs": [
    {
     "data": {
      "text/plain": [
       "FriedmanchisquareResult(statistic=31.73333333333335, pvalue=4.550913886603317e-05)"
      ]
     },
     "execution_count": 91,
     "metadata": {},
     "output_type": "execute_result"
    }
   ],
   "source": [
    "stats.friedmanchisquare(L_DT, L_GBR, L_HGB, L_KNN, L_MLP, L_MLR, L_RF, L_SVR)"
   ]
  },
  {
   "cell_type": "code",
   "execution_count": 92,
   "metadata": {},
   "outputs": [],
   "source": [
    "data = pd.DataFrame([L_DT, L_GBR, L_HGB, L_KNN, L_MLP, L_MLR, L_RF, L_SVR])"
   ]
  },
  {
   "cell_type": "code",
   "execution_count": 93,
   "metadata": {},
   "outputs": [],
   "source": [
    "output = sp.posthoc_nemenyi_friedman(data.T)\n",
    "output.to_csv(r'M_F_Output_BUT.csv')"
   ]
  },
  {
   "cell_type": "markdown",
   "metadata": {},
   "source": [
    "## Marine Glucose"
   ]
  },
  {
   "cell_type": "code",
   "execution_count": 94,
   "metadata": {},
   "outputs": [],
   "source": [
    "#Spiked Marine Models\n",
    "L_DT = [13.13655745, 79.21688879, 34.00533668, 45.14334856, 84.22973077, 56.07896873, 16.03396665, 121.9878859, 13.13655745, 16.03396665]\n",
    "L_GBR = [13.05979745, 45.22638411, 34.22610921, 50.26898907, 70.22451113, 72.7426742, 34.02764322, 103.4264209, 34.97232503, 3.586178633]\n",
    "L_HGB = [11.67444882, 56.12478566, 34.52132669, 63.30513261, 73.45204081, 70.38504905, 45.55172621, 87.94202148, 26.35416212, 30.03652399]\n",
    "L_KNN = [24.45490425, 48.06922124, 37.09323392, 18.46909919, 31.5807084, 42.27244709, 37.05089578, 42.42521287, 36.96603545, 24.45490425]\n",
    "L_MLP = [29.4306082, 33.19479126, 31.78982134, 29.7727825, 30.32437759, 38.40689116, 29.59341391, 34.2506793, 31.03793888, 29.49083392]\n",
    "L_MLR = [29.79760768, 32.53125652, 24.94944911, 31.96052219, 35.2133356, 46.7183816, 27.32160804, 43.85847308, 25.77291258, 34.0480451]\n",
    "L_RF = [27.20967357, 31.31359533, 10.25166239, 34.14676614, 91.45289801, 13.59387388, 8.59362742, 108.3949501, 4.902389772, 30.75721954]\n",
    "L_SVR = [13.27312652, 13.53009594, 13.4256861, 13.29527862, 13.32711134, 13.85637276, 13.28043833, 13.61745807, 13.38064759, 13.28580916]"
   ]
  },
  {
   "cell_type": "code",
   "execution_count": 95,
   "metadata": {},
   "outputs": [
    {
     "data": {
      "text/plain": [
       "FriedmanchisquareResult(statistic=18.033333333333303, pvalue=0.011820510794682344)"
      ]
     },
     "execution_count": 95,
     "metadata": {},
     "output_type": "execute_result"
    }
   ],
   "source": [
    "stats.friedmanchisquare(L_DT, L_GBR, L_HGB, L_KNN, L_MLP, L_MLR, L_RF, L_SVR)"
   ]
  },
  {
   "cell_type": "code",
   "execution_count": 96,
   "metadata": {},
   "outputs": [],
   "source": [
    "data = pd.DataFrame([L_DT, L_GBR, L_HGB, L_KNN, L_MLP, L_MLR, L_RF, L_SVR])"
   ]
  },
  {
   "cell_type": "code",
   "execution_count": 97,
   "metadata": {},
   "outputs": [],
   "source": [
    "output = sp.posthoc_nemenyi_friedman(data.T)\n",
    "output.to_csv(r'PATH\\M_F_Output_GLU.csv')"
   ]
  },
  {
   "cell_type": "code",
   "execution_count": null,
   "metadata": {},
   "outputs": [],
   "source": []
  }
 ],
 "metadata": {
  "kernelspec": {
   "display_name": "Python 3",
   "language": "python",
   "name": "python3"
  },
  "language_info": {
   "codemirror_mode": {
    "name": "ipython",
    "version": 3
   },
   "file_extension": ".py",
   "mimetype": "text/x-python",
   "name": "python",
   "nbconvert_exporter": "python",
   "pygments_lexer": "ipython3",
   "version": "3.8.5"
  }
 },
 "nbformat": 4,
 "nbformat_minor": 4
}
